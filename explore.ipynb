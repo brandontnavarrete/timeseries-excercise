{
 "cells": [
  {
   "cell_type": "code",
   "execution_count": 1,
   "id": "32086c49",
   "metadata": {},
   "outputs": [],
   "source": [
    "import numpy as np\n",
    "import pandas as pd\n",
    "import matplotlib.pyplot as plt\n",
    "import seaborn as sns\n",
    "\n",
    "from sklearn.model_selection import TimeSeriesSplit\n",
    "import statsmodels.api as sm\n",
    "\n",
    "import prepare as pr \n"
   ]
  },
  {
   "cell_type": "markdown",
   "id": "014fb9e1",
   "metadata": {},
   "source": [
    "# acquire"
   ]
  },
  {
   "cell_type": "code",
   "execution_count": 2,
   "id": "7293cf63",
   "metadata": {},
   "outputs": [],
   "source": [
    "df = pd.read_csv('store.csv')"
   ]
  },
  {
   "cell_type": "code",
   "execution_count": 3,
   "id": "298c8c8a",
   "metadata": {},
   "outputs": [],
   "source": [
    "sdf = df.sample(100000)"
   ]
  },
  {
   "cell_type": "code",
   "execution_count": 4,
   "id": "1475349b",
   "metadata": {},
   "outputs": [],
   "source": [
    "sdf = pr.convert_to_datetime(df)"
   ]
  },
  {
   "cell_type": "code",
   "execution_count": 5,
   "id": "7909be20",
   "metadata": {},
   "outputs": [
    {
     "data": {
      "text/html": [
       "<div>\n",
       "<style scoped>\n",
       "    .dataframe tbody tr th:only-of-type {\n",
       "        vertical-align: middle;\n",
       "    }\n",
       "\n",
       "    .dataframe tbody tr th {\n",
       "        vertical-align: top;\n",
       "    }\n",
       "\n",
       "    .dataframe thead th {\n",
       "        text-align: right;\n",
       "    }\n",
       "</style>\n",
       "<table border=\"1\" class=\"dataframe\">\n",
       "  <thead>\n",
       "    <tr style=\"text-align: right;\">\n",
       "      <th></th>\n",
       "      <th>item_id</th>\n",
       "      <th>sale_id</th>\n",
       "      <th>sale_date</th>\n",
       "      <th>store_id</th>\n",
       "      <th>sale_amount</th>\n",
       "      <th>item_brand</th>\n",
       "      <th>item_name</th>\n",
       "      <th>item_price</th>\n",
       "      <th>store_zipcode</th>\n",
       "      <th>store_state</th>\n",
       "    </tr>\n",
       "  </thead>\n",
       "  <tbody>\n",
       "    <tr>\n",
       "      <th>0</th>\n",
       "      <td>1</td>\n",
       "      <td>1</td>\n",
       "      <td>2013-01-01</td>\n",
       "      <td>1</td>\n",
       "      <td>13</td>\n",
       "      <td>Riceland</td>\n",
       "      <td>Riceland American Jazmine Rice</td>\n",
       "      <td>0.84</td>\n",
       "      <td>78231</td>\n",
       "      <td>TX</td>\n",
       "    </tr>\n",
       "  </tbody>\n",
       "</table>\n",
       "</div>"
      ],
      "text/plain": [
       "   item_id  sale_id  sale_date  store_id  sale_amount item_brand  \\\n",
       "0        1        1 2013-01-01         1           13   Riceland   \n",
       "\n",
       "                        item_name  item_price  store_zipcode store_state  \n",
       "0  Riceland American Jazmine Rice        0.84          78231          TX  "
      ]
     },
     "execution_count": 5,
     "metadata": {},
     "output_type": "execute_result"
    }
   ],
   "source": [
    "sdf.head(1)"
   ]
  },
  {
   "cell_type": "code",
   "execution_count": 6,
   "id": "73c5c2ec",
   "metadata": {},
   "outputs": [],
   "source": [
    "df = pr.add_feats(sdf)"
   ]
  },
  {
   "cell_type": "markdown",
   "id": "6a69e645",
   "metadata": {},
   "source": [
    "# split"
   ]
  },
  {
   "cell_type": "code",
   "execution_count": 7,
   "id": "f794dc4d",
   "metadata": {},
   "outputs": [],
   "source": [
    "# grabbing everything before and including 2016\n",
    "train = df[:'2016']\n",
    "# grab 2017\n",
    "test = df['2017']"
   ]
  },
  {
   "cell_type": "code",
   "execution_count": 8,
   "id": "f8851042",
   "metadata": {
    "scrolled": true
   },
   "outputs": [
    {
     "data": {
      "text/html": [
       "<div>\n",
       "<style scoped>\n",
       "    .dataframe tbody tr th:only-of-type {\n",
       "        vertical-align: middle;\n",
       "    }\n",
       "\n",
       "    .dataframe tbody tr th {\n",
       "        vertical-align: top;\n",
       "    }\n",
       "\n",
       "    .dataframe thead th {\n",
       "        text-align: right;\n",
       "    }\n",
       "</style>\n",
       "<table border=\"1\" class=\"dataframe\">\n",
       "  <thead>\n",
       "    <tr style=\"text-align: right;\">\n",
       "      <th></th>\n",
       "      <th>item_id</th>\n",
       "      <th>sale_id</th>\n",
       "      <th>store_id</th>\n",
       "      <th>sale_amount</th>\n",
       "      <th>item_brand</th>\n",
       "      <th>item_name</th>\n",
       "      <th>item_price</th>\n",
       "      <th>store_zipcode</th>\n",
       "      <th>store_state</th>\n",
       "      <th>month</th>\n",
       "      <th>dow</th>\n",
       "      <th>sales_total</th>\n",
       "    </tr>\n",
       "    <tr>\n",
       "      <th>sale_date</th>\n",
       "      <th></th>\n",
       "      <th></th>\n",
       "      <th></th>\n",
       "      <th></th>\n",
       "      <th></th>\n",
       "      <th></th>\n",
       "      <th></th>\n",
       "      <th></th>\n",
       "      <th></th>\n",
       "      <th></th>\n",
       "      <th></th>\n",
       "      <th></th>\n",
       "    </tr>\n",
       "  </thead>\n",
       "  <tbody>\n",
       "    <tr>\n",
       "      <th>2017-01-01</th>\n",
       "      <td>1</td>\n",
       "      <td>1462</td>\n",
       "      <td>1</td>\n",
       "      <td>19</td>\n",
       "      <td>Riceland</td>\n",
       "      <td>Riceland American Jazmine Rice</td>\n",
       "      <td>0.84</td>\n",
       "      <td>78231</td>\n",
       "      <td>TX</td>\n",
       "      <td>Jan</td>\n",
       "      <td>Sun</td>\n",
       "      <td>15.96</td>\n",
       "    </tr>\n",
       "  </tbody>\n",
       "</table>\n",
       "</div>"
      ],
      "text/plain": [
       "            item_id  sale_id  store_id  sale_amount item_brand  \\\n",
       "sale_date                                                        \n",
       "2017-01-01        1     1462         1           19   Riceland   \n",
       "\n",
       "                                 item_name  item_price  store_zipcode  \\\n",
       "sale_date                                                               \n",
       "2017-01-01  Riceland American Jazmine Rice        0.84          78231   \n",
       "\n",
       "           store_state month  dow  sales_total  \n",
       "sale_date                                       \n",
       "2017-01-01          TX   Jan  Sun        15.96  "
      ]
     },
     "execution_count": 8,
     "metadata": {},
     "output_type": "execute_result"
    }
   ],
   "source": [
    "test.head(1)"
   ]
  },
  {
   "cell_type": "code",
   "execution_count": 9,
   "id": "0c93299c",
   "metadata": {},
   "outputs": [
    {
     "name": "stdout",
     "output_type": "stream",
     "text": [
      "Date Range: 2013-01-01 00:00:00 to 2016-12-31 00:00:00\n",
      "Shape: (7305000, 12)\n"
     ]
    }
   ],
   "source": [
    "print('Date Range:', train.index.min(), 'to', train.index.max())\n",
    "print('Shape:', train.shape)\n"
   ]
  },
  {
   "cell_type": "code",
   "execution_count": 10,
   "id": "e4caaeff",
   "metadata": {},
   "outputs": [
    {
     "name": "stdout",
     "output_type": "stream",
     "text": [
      "Date Range: 2017-01-01 00:00:00 to 2017-12-31 00:00:00\n",
      "Shape: (1825000, 12)\n"
     ]
    }
   ],
   "source": [
    "print('Date Range:', test.index.min(), 'to', test.index.max())\n",
    "print('Shape:', test.shape)\n"
   ]
  },
  {
   "cell_type": "markdown",
   "id": "7c709d8d",
   "metadata": {},
   "source": [
    "# visualize the split"
   ]
  },
  {
   "cell_type": "code",
   "execution_count": 11,
   "id": "598a04d5",
   "metadata": {
    "scrolled": true
   },
   "outputs": [
    {
     "data": {
      "text/plain": [
       "<AxesSubplot:xlabel='sale_date'>"
      ]
     },
     "execution_count": 11,
     "metadata": {},
     "output_type": "execute_result"
    },
    {
     "data": {
      "image/png": "[encoded data removed]",
      "text/plain": [
       "<Figure size 640x480 with 1 Axes>"
      ]
     },
     "metadata": {},
     "output_type": "display_data"
    }
   ],
   "source": [
    "train.resample('d').sales_total.mean().plot()\n",
    "test.resample('d').sales_total.mean().plot()"
   ]
  },
  {
   "cell_type": "markdown",
   "id": "46c58e5f",
   "metadata": {},
   "source": [
    "# visuals\n"
   ]
  },
  {
   "cell_type": "code",
   "execution_count": 12,
   "id": "3a224112",
   "metadata": {},
   "outputs": [],
   "source": [
    "y = train.sales_total"
   ]
  },
  {
   "cell_type": "code",
   "execution_count": 13,
   "id": "a9a7f898",
   "metadata": {},
   "outputs": [
    {
     "data": {
      "text/plain": [
       "<AxesSubplot:ylabel='Frequency'>"
      ]
     },
     "execution_count": 13,
     "metadata": {},
     "output_type": "execute_result"
    },
    {
     "data": {
      "image/png": "[encoded data removed]",
      "text/plain": [
       "<Figure size 640x480 with 1 Axes>"
      ]
     },
     "metadata": {},
     "output_type": "display_data"
    }
   ],
   "source": [
    "y.plot.hist()"
   ]
  },
  {
   "cell_type": "code",
   "execution_count": 14,
   "id": "5026ee6f",
   "metadata": {},
   "outputs": [
    {
     "data": {
      "text/plain": [
       "[Text(0.5, 1.0, 'Average sales by Week'),\n",
       " Text(0.5, 0, 'Week'),\n",
       " Text(0, 0.5, 'sales total')]"
      ]
     },
     "execution_count": 14,
     "metadata": {},
     "output_type": "execute_result"
    },
    {
     "data": {
      "image/png": "[encoded data removed]",
      "text/plain": [
       "<Figure size 640x480 with 1 Axes>"
      ]
     },
     "metadata": {},
     "output_type": "display_data"
    }
   ],
   "source": [
    "ax = y.groupby(y.index.week).mean().plot.bar(width=.9, ec='black')\n",
    "plt.xticks(rotation=0)\n",
    "ax.set(title='Average sales by Week', xlabel='Week', ylabel='sales total')"
   ]
  },
  {
   "cell_type": "code",
   "execution_count": 15,
   "id": "3cd228af",
   "metadata": {},
   "outputs": [
    {
     "data": {
      "text/plain": [
       "[Text(0.5, 1.0, 'average sales by month'),\n",
       " Text(0.5, 0, 'month'),\n",
       " Text(0, 0.5, 'sales total')]"
      ]
     },
     "execution_count": 15,
     "metadata": {},
     "output_type": "execute_result"
    },
    {
     "data": {
      "image/png": "[encoded data removed]",
      "text/plain": [
       "<Figure size 640x480 with 1 Axes>"
      ]
     },
     "metadata": {},
     "output_type": "display_data"
    }
   ],
   "source": [
    "ax = y.groupby(y.index.month).mean().plot.bar(width = .8, ec = 'black')\n",
    "ax.set(title= \"average sales by month\", xlabel = 'month',ylabel = 'sales total')"
   ]
  },
  {
   "cell_type": "code",
   "execution_count": null,
   "id": "846a5974",
   "metadata": {},
   "outputs": [],
   "source": [
    "y"
   ]
  },
  {
   "cell_type": "code",
   "execution_count": null,
   "id": "aaf1e172",
   "metadata": {},
   "outputs": [],
   "source": [
    "# Plot the weekly average & the 7-day moving average. Compare the 2 plots.\n",
    "\n",
    "y.resample('W').mean().plot(label='Resampled Weekly', alpha=.6, color = 'blue')\n",
    "y.rolling(7).mean().plot(label='Rolling Weekly Average', alpha=.6, color = 'red')\n",
    "plt.legend()"
   ]
  },
  {
   "cell_type": "markdown",
   "id": "41e6cea0",
   "metadata": {},
   "source": [
    "# visualize the target over time"
   ]
  },
  {
   "cell_type": "code",
   "execution_count": null,
   "id": "0dac7aae",
   "metadata": {},
   "outputs": [],
   "source": [
    "y.resample('w').mean().plot(title='1 week average')"
   ]
  },
  {
   "cell_type": "code",
   "execution_count": null,
   "id": "3e72da5d",
   "metadata": {},
   "outputs": [],
   "source": [
    "y.resample('w').mean().rolling(5).mean().plot(title='1 week average')"
   ]
  },
  {
   "cell_type": "code",
   "execution_count": null,
   "id": "505c0d88",
   "metadata": {},
   "outputs": [],
   "source": [
    "y.resample('m').mean().plot(title='1 month average')"
   ]
  },
  {
   "cell_type": "code",
   "execution_count": null,
   "id": "1073fb9c",
   "metadata": {},
   "outputs": [],
   "source": [
    "y.plot(alpha=.2, label='daily')\n",
    "y.resample('W').mean().plot(alpha=.8, label='Weekly')\n",
    "y.resample('M').mean().plot(label='Montly')\n",
    "y.resample('Y').mean().plot(label='Yearly')\n",
    "\n",
    "plt.legend()\n"
   ]
  },
  {
   "cell_type": "markdown",
   "id": "032bcabd",
   "metadata": {},
   "source": [
    "# visualize the change over time"
   ]
  },
  {
   "cell_type": "code",
   "execution_count": null,
   "id": "ccb5af08",
   "metadata": {},
   "outputs": [],
   "source": [
    "y.resample('M').mean().diff().plot(title='Average month-to-month change in temperature')\n"
   ]
  },
  {
   "cell_type": "markdown",
   "id": "2beb3cfa",
   "metadata": {},
   "source": [
    "# seasonal plots"
   ]
  },
  {
   "cell_type": "code",
   "execution_count": 1,
   "id": "c3ec9534",
   "metadata": {},
   "outputs": [
    {
     "ename": "NameError",
     "evalue": "name 'y' is not defined",
     "output_type": "error",
     "traceback": [
      "\u001b[0;31m---------------------------------------------------------------------------\u001b[0m",
      "\u001b[0;31mNameError\u001b[0m                                 Traceback (most recent call last)",
      "\u001b[0;32m/var/folders/d0/5dr5q0n145vcn3_m9dxy1xq80000gn/T/ipykernel_7849/512001987.py\u001b[0m in \u001b[0;36m<module>\u001b[0;34m\u001b[0m\n\u001b[1;32m      1\u001b[0m \u001b[0;31m# .unstack turns an index level into columns\u001b[0m\u001b[0;34m\u001b[0m\u001b[0;34m\u001b[0m\u001b[0m\n\u001b[0;32m----> 2\u001b[0;31m \u001b[0my\u001b[0m\u001b[0;34m.\u001b[0m\u001b[0mgroupby\u001b[0m\u001b[0;34m(\u001b[0m\u001b[0;34m[\u001b[0m\u001b[0my\u001b[0m\u001b[0;34m.\u001b[0m\u001b[0mindex\u001b[0m\u001b[0;34m.\u001b[0m\u001b[0myear\u001b[0m\u001b[0;34m,\u001b[0m \u001b[0my\u001b[0m\u001b[0;34m.\u001b[0m\u001b[0mindex\u001b[0m\u001b[0;34m.\u001b[0m\u001b[0mmonth\u001b[0m\u001b[0;34m]\u001b[0m\u001b[0;34m)\u001b[0m\u001b[0;34m.\u001b[0m\u001b[0mmean\u001b[0m\u001b[0;34m(\u001b[0m\u001b[0;34m)\u001b[0m\u001b[0;34m.\u001b[0m\u001b[0munstack\u001b[0m\u001b[0;34m(\u001b[0m\u001b[0;36m0\u001b[0m\u001b[0;34m)\u001b[0m\u001b[0;34m.\u001b[0m\u001b[0mplot\u001b[0m\u001b[0;34m(\u001b[0m\u001b[0mtitle\u001b[0m\u001b[0;34m=\u001b[0m\u001b[0;34m'Seasonal Plot'\u001b[0m\u001b[0;34m)\u001b[0m\u001b[0;34m\u001b[0m\u001b[0;34m\u001b[0m\u001b[0m\n\u001b[0m",
      "\u001b[0;31mNameError\u001b[0m: name 'y' is not defined"
     ]
    }
   ],
   "source": [
    "# .unstack turns an index level into columns\n",
    "y.groupby([y.index.year, y.index.month]).mean().unstack(0).plot(title='Seasonal Plot')\n"
   ]
  },
  {
   "cell_type": "markdown",
   "id": "2c5dd621",
   "metadata": {},
   "source": [
    "# autocorrelation"
   ]
  },
  {
   "cell_type": "code",
   "execution_count": null,
   "id": "089aafe5",
   "metadata": {},
   "outputs": [],
   "source": [
    "pd.plotting.autocorrelation_plot(train.Consumption.resample('W').mean())\n"
   ]
  },
  {
   "cell_type": "markdown",
   "id": "96f49bca",
   "metadata": {},
   "source": [
    "# categorize"
   ]
  },
  {
   "cell_type": "code",
   "execution_count": null,
   "id": "48f97daa",
   "metadata": {},
   "outputs": [],
   "source": [
    "\n",
    "# create a categorical feature\n",
    "train_tar['sales_bin'] = pd.qcut(train_tar.Consumption, 3, labels=['low', 'mid', 'high'])\n",
    "train_tar.groupby('sales_bin').mean()\n"
   ]
  },
  {
   "cell_type": "code",
   "execution_count": null,
   "id": "1e9c6a77",
   "metadata": {},
   "outputs": [],
   "source": []
  },
  {
   "cell_type": "code",
   "execution_count": null,
   "id": "7019f8aa",
   "metadata": {},
   "outputs": [],
   "source": []
  },
  {
   "cell_type": "code",
   "execution_count": null,
   "id": "a03a3d41",
   "metadata": {},
   "outputs": [],
   "source": []
  },
  {
   "cell_type": "code",
   "execution_count": null,
   "id": "264e70a6",
   "metadata": {},
   "outputs": [],
   "source": []
  },
  {
   "cell_type": "code",
   "execution_count": null,
   "id": "b630a99f",
   "metadata": {},
   "outputs": [],
   "source": []
  },
  {
   "cell_type": "code",
   "execution_count": null,
   "id": "b9ccdafc",
   "metadata": {},
   "outputs": [],
   "source": []
  },
  {
   "cell_type": "code",
   "execution_count": null,
   "id": "39f2b300",
   "metadata": {},
   "outputs": [],
   "source": [
    "german = pd.read_csv('opsd_germany_daily.csv')"
   ]
  },
  {
   "cell_type": "code",
   "execution_count": null,
   "id": "724801ba",
   "metadata": {},
   "outputs": [],
   "source": [
    "df = pr.clean_german(german)"
   ]
  },
  {
   "cell_type": "code",
   "execution_count": null,
   "id": "c79f99ff",
   "metadata": {},
   "outputs": [],
   "source": [
    "print('Date Range:', df.index.min(), 'to', df.index.max())\n",
    "print('Shape:', df.shape)\n"
   ]
  },
  {
   "cell_type": "markdown",
   "id": "99c9b4fd",
   "metadata": {},
   "source": [
    "# Data Split: percentage based due to size of data"
   ]
  },
  {
   "cell_type": "code",
   "execution_count": null,
   "id": "48ab6355",
   "metadata": {},
   "outputs": [],
   "source": [
    "# creating train percent size\n",
    "train_size = .70\n",
    "\n",
    "# creating the length of the dataframe to get a portiong\n",
    "n = df.shape[0]\n",
    "\n",
    "# where to start grabbing test data\n",
    "test_start_index = round(train_size * n)\n",
    "                         \n",
    "                         \n",
    "train = df[:test_start_index] # everything up (not including) to the test_start_index\n",
    "test = df[test_start_index:] # everything from the test_start_index to the end\n"
   ]
  },
  {
   "cell_type": "markdown",
   "id": "db8456d9",
   "metadata": {},
   "source": [
    "# visualize the data split"
   ]
  },
  {
   "cell_type": "code",
   "execution_count": null,
   "id": "432ad316",
   "metadata": {},
   "outputs": [],
   "source": [
    "df"
   ]
  },
  {
   "cell_type": "code",
   "execution_count": null,
   "id": "c6ea76ea",
   "metadata": {},
   "outputs": [],
   "source": [
    "plt.plot(train.index, train.Consumption)\n",
    "plt.plot(test.index, test.Consumption)"
   ]
  },
  {
   "cell_type": "markdown",
   "id": "078f5ba3",
   "metadata": {},
   "source": [
    "# visuals"
   ]
  },
  {
   "cell_type": "code",
   "execution_count": null,
   "id": "27f77004",
   "metadata": {},
   "outputs": [],
   "source": [
    "y = train.Consumption"
   ]
  },
  {
   "cell_type": "code",
   "execution_count": null,
   "id": "3d7bfd57",
   "metadata": {
    "scrolled": false
   },
   "outputs": [],
   "source": [
    "y.plot.hist()"
   ]
  },
  {
   "cell_type": "code",
   "execution_count": null,
   "id": "2a6cb935",
   "metadata": {},
   "outputs": [],
   "source": [
    "ax = y.groupby(y.index.month).mean().plot.bar(width=.9, ec='black')\n",
    "plt.xticks(rotation=0)\n",
    "ax.set(title='Average Temperature by Month', xlabel='Month', ylabel='Temp (F)')"
   ]
  },
  {
   "cell_type": "code",
   "execution_count": null,
   "id": "c8a63af6",
   "metadata": {},
   "outputs": [],
   "source": [
    "ax = y.groupby(y.index.month).mean().plot.bar(width = .8, ec = 'black')\n",
    "ax.set(title= \"average consumption by month\", xlabel = 'month',ylabel = 'consumption')"
   ]
  },
  {
   "cell_type": "code",
   "execution_count": null,
   "id": "e6dd5153",
   "metadata": {},
   "outputs": [],
   "source": [
    "(\n",
    "    y.reset_index()\n",
    "    .assign(month=lambda df: df.Date.dt.month_name())\n",
    "    .pipe((sns.boxplot, 'data'), y='Consumption', x='month')\n",
    ")"
   ]
  },
  {
   "cell_type": "markdown",
   "id": "40f5ad46",
   "metadata": {},
   "source": [
    "# visualize the target over time"
   ]
  },
  {
   "cell_type": "code",
   "execution_count": null,
   "id": "86ddd534",
   "metadata": {},
   "outputs": [],
   "source": [
    "y.plot()"
   ]
  },
  {
   "cell_type": "code",
   "execution_count": null,
   "id": "071c6e79",
   "metadata": {},
   "outputs": [],
   "source": [
    "y.resample('w').mean().plot(title='1 week average')"
   ]
  },
  {
   "cell_type": "code",
   "execution_count": null,
   "id": "0aaa9a48",
   "metadata": {},
   "outputs": [],
   "source": [
    "y.resample('w').mean().rolling(5).mean().plot(title='1 week average')"
   ]
  },
  {
   "cell_type": "code",
   "execution_count": null,
   "id": "12b12a5e",
   "metadata": {},
   "outputs": [],
   "source": [
    "y.resample('m').mean().plot(title='1 month average')"
   ]
  },
  {
   "cell_type": "code",
   "execution_count": null,
   "id": "49de1198",
   "metadata": {},
   "outputs": [],
   "source": [
    "y.plot(alpha=.2, label='daily')\n",
    "y.resample('W').mean().plot(alpha=.8, label='Weekly')\n",
    "y.resample('M').mean().plot(label='Montly')\n",
    "y.resample('Y').mean().plot(label='Yearly')\n",
    "\n",
    "plt.legend()\n"
   ]
  },
  {
   "cell_type": "markdown",
   "id": "af0e6317",
   "metadata": {},
   "source": [
    "# visualize change over time"
   ]
  },
  {
   "cell_type": "code",
   "execution_count": null,
   "id": "1cefb7ec",
   "metadata": {},
   "outputs": [],
   "source": [
    "y.resample('M').mean().diff().plot(title='Average month-to-month change in temperature')\n"
   ]
  },
  {
   "cell_type": "markdown",
   "id": "0e7b9b98",
   "metadata": {},
   "source": [
    "# seasonal plot"
   ]
  },
  {
   "cell_type": "code",
   "execution_count": null,
   "id": "270cf576",
   "metadata": {},
   "outputs": [],
   "source": [
    "# .unstack turns an index level into columns\n",
    "y.groupby([y.index.year, y.index.month]).mean().unstack(0).plot(title='Seasonal Plot')\n"
   ]
  },
  {
   "cell_type": "markdown",
   "id": "84b5d297",
   "metadata": {},
   "source": [
    "# autocorrelation plot"
   ]
  },
  {
   "cell_type": "code",
   "execution_count": null,
   "id": "581067bd",
   "metadata": {},
   "outputs": [],
   "source": [
    "pd.plotting.autocorrelation_plot(train.Consumption.resample('W').mean())\n"
   ]
  },
  {
   "cell_type": "markdown",
   "id": "a36244f3",
   "metadata": {},
   "source": [
    "# categorize"
   ]
  },
  {
   "cell_type": "code",
   "execution_count": null,
   "id": "5361c14a",
   "metadata": {},
   "outputs": [],
   "source": [
    "train_tar = train[['Consumption']]"
   ]
  },
  {
   "cell_type": "code",
   "execution_count": null,
   "id": "46f5adcb",
   "metadata": {
    "scrolled": true
   },
   "outputs": [],
   "source": [
    "\n",
    "# create a categorical feature\n",
    "train_tar['cons_bin'] = pd.qcut(train_tar.Consumption, 3, labels=['low', 'mid', 'high'])\n",
    "train_tar.groupby('cons_bin').mean()\n"
   ]
  }
 ],
 "metadata": {
  "kernelspec": {
   "display_name": "Python 3 (ipykernel)",
   "language": "python",
   "name": "python3"
  },
  "language_info": {
   "codemirror_mode": {
    "name": "ipython",
    "version": 3
   },
   "file_extension": ".py",
   "mimetype": "text/x-python",
   "name": "python",
   "nbconvert_exporter": "python",
   "pygments_lexer": "ipython3",
   "version": "3.9.13"
  },
  "toc": {
   "base_numbering": 1,
   "nav_menu": {},
   "number_sections": true,
   "sideBar": true,
   "skip_h1_title": false,
   "title_cell": "Table of Contents",
   "title_sidebar": "Contents",
   "toc_cell": false,
   "toc_position": {
    "height": "calc(100% - 180px)",
    "left": "10px",
    "top": "150px",
    "width": "165px"
   },
   "toc_section_display": true,
   "toc_window_display": true
  }
 },
 "nbformat": 4,
 "nbformat_minor": 5
}
