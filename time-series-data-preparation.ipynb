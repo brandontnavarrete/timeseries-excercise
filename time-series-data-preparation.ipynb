{
 "cells": [
  {
   "cell_type": "code",
   "execution_count": 1,
   "id": "6bfded1b",
   "metadata": {},
   "outputs": [],
   "source": [
    "import pandas as pd\n",
    "import numpy as np\n",
    "from vega_datasets import data\n",
    "import matplotlib.pyplot as plt \n",
    "import seaborn as sns\n",
    "\n",
    "from datetime import timedelta, datetime\n",
    "\n",
    "\n",
    "import acquire as ac\n",
    "\n",
    "\n",
    "import warnings\n",
    "warnings.filterwarnings(\"ignore\")\n",
    "\n"
   ]
  },
  {
   "cell_type": "code",
   "execution_count": 2,
   "id": "227b80ef",
   "metadata": {},
   "outputs": [],
   "source": [
    "df = ac.get_store_data(ac.get_connection)\n"
   ]
  },
  {
   "cell_type": "code",
   "execution_count": 3,
   "id": "ef79944b",
   "metadata": {},
   "outputs": [],
   "source": [
    "# df.sample(10000)"
   ]
  },
  {
   "cell_type": "code",
   "execution_count": 14,
   "id": "75335b0d",
   "metadata": {},
   "outputs": [
    {
     "data": {
      "text/html": [
       "<div>\n",
       "<style scoped>\n",
       "    .dataframe tbody tr th:only-of-type {\n",
       "        vertical-align: middle;\n",
       "    }\n",
       "\n",
       "    .dataframe tbody tr th {\n",
       "        vertical-align: top;\n",
       "    }\n",
       "\n",
       "    .dataframe thead th {\n",
       "        text-align: right;\n",
       "    }\n",
       "</style>\n",
       "<table border=\"1\" class=\"dataframe\">\n",
       "  <thead>\n",
       "    <tr style=\"text-align: right;\">\n",
       "      <th></th>\n",
       "      <th>item_id</th>\n",
       "      <th>sale_id</th>\n",
       "      <th>store_id</th>\n",
       "      <th>sale_amount</th>\n",
       "      <th>item_brand</th>\n",
       "      <th>item_name</th>\n",
       "      <th>item_price</th>\n",
       "      <th>store_zipcode</th>\n",
       "      <th>store_state</th>\n",
       "      <th>month</th>\n",
       "      <th>dow</th>\n",
       "      <th>sales_total</th>\n",
       "    </tr>\n",
       "    <tr>\n",
       "      <th>sale_date</th>\n",
       "      <th></th>\n",
       "      <th></th>\n",
       "      <th></th>\n",
       "      <th></th>\n",
       "      <th></th>\n",
       "      <th></th>\n",
       "      <th></th>\n",
       "      <th></th>\n",
       "      <th></th>\n",
       "      <th></th>\n",
       "      <th></th>\n",
       "      <th></th>\n",
       "    </tr>\n",
       "  </thead>\n",
       "  <tbody>\n",
       "    <tr>\n",
       "      <th>2013-01-01</th>\n",
       "      <td>1</td>\n",
       "      <td>1</td>\n",
       "      <td>1</td>\n",
       "      <td>13</td>\n",
       "      <td>Riceland</td>\n",
       "      <td>Riceland American Jazmine Rice</td>\n",
       "      <td>0.84</td>\n",
       "      <td>78231</td>\n",
       "      <td>TX</td>\n",
       "      <td>Jan</td>\n",
       "      <td>Tue</td>\n",
       "      <td>10.92</td>\n",
       "    </tr>\n",
       "    <tr>\n",
       "      <th>2013-01-01</th>\n",
       "      <td>1</td>\n",
       "      <td>1</td>\n",
       "      <td>1</td>\n",
       "      <td>13</td>\n",
       "      <td>Riceland</td>\n",
       "      <td>Riceland American Jazmine Rice</td>\n",
       "      <td>0.84</td>\n",
       "      <td>78221</td>\n",
       "      <td>TX</td>\n",
       "      <td>Jan</td>\n",
       "      <td>Tue</td>\n",
       "      <td>10.92</td>\n",
       "    </tr>\n",
       "    <tr>\n",
       "      <th>2013-01-01</th>\n",
       "      <td>1</td>\n",
       "      <td>1</td>\n",
       "      <td>1</td>\n",
       "      <td>13</td>\n",
       "      <td>Riceland</td>\n",
       "      <td>Riceland American Jazmine Rice</td>\n",
       "      <td>0.84</td>\n",
       "      <td>78232</td>\n",
       "      <td>TX</td>\n",
       "      <td>Jan</td>\n",
       "      <td>Tue</td>\n",
       "      <td>10.92</td>\n",
       "    </tr>\n",
       "    <tr>\n",
       "      <th>2013-01-01</th>\n",
       "      <td>1</td>\n",
       "      <td>1</td>\n",
       "      <td>1</td>\n",
       "      <td>13</td>\n",
       "      <td>Riceland</td>\n",
       "      <td>Riceland American Jazmine Rice</td>\n",
       "      <td>0.84</td>\n",
       "      <td>78217</td>\n",
       "      <td>TX</td>\n",
       "      <td>Jan</td>\n",
       "      <td>Tue</td>\n",
       "      <td>10.92</td>\n",
       "    </tr>\n",
       "    <tr>\n",
       "      <th>2013-01-01</th>\n",
       "      <td>1</td>\n",
       "      <td>1</td>\n",
       "      <td>1</td>\n",
       "      <td>13</td>\n",
       "      <td>Riceland</td>\n",
       "      <td>Riceland American Jazmine Rice</td>\n",
       "      <td>0.84</td>\n",
       "      <td>78220</td>\n",
       "      <td>TX</td>\n",
       "      <td>Jan</td>\n",
       "      <td>Tue</td>\n",
       "      <td>10.92</td>\n",
       "    </tr>\n",
       "  </tbody>\n",
       "</table>\n",
       "</div>"
      ],
      "text/plain": [
       "            item_id  sale_id  store_id  sale_amount item_brand  \\\n",
       "sale_date                                                        \n",
       "2013-01-01        1        1         1           13   Riceland   \n",
       "2013-01-01        1        1         1           13   Riceland   \n",
       "2013-01-01        1        1         1           13   Riceland   \n",
       "2013-01-01        1        1         1           13   Riceland   \n",
       "2013-01-01        1        1         1           13   Riceland   \n",
       "\n",
       "                                 item_name  item_price  store_zipcode  \\\n",
       "sale_date                                                               \n",
       "2013-01-01  Riceland American Jazmine Rice        0.84          78231   \n",
       "2013-01-01  Riceland American Jazmine Rice        0.84          78221   \n",
       "2013-01-01  Riceland American Jazmine Rice        0.84          78232   \n",
       "2013-01-01  Riceland American Jazmine Rice        0.84          78217   \n",
       "2013-01-01  Riceland American Jazmine Rice        0.84          78220   \n",
       "\n",
       "           store_state month  dow  sales_total  \n",
       "sale_date                                       \n",
       "2013-01-01          TX   Jan  Tue        10.92  \n",
       "2013-01-01          TX   Jan  Tue        10.92  \n",
       "2013-01-01          TX   Jan  Tue        10.92  \n",
       "2013-01-01          TX   Jan  Tue        10.92  \n",
       "2013-01-01          TX   Jan  Tue        10.92  "
      ]
     },
     "execution_count": 14,
     "metadata": {},
     "output_type": "execute_result"
    }
   ],
   "source": [
    "df.head()"
   ]
  },
  {
   "cell_type": "markdown",
   "id": "dc4a98c6",
   "metadata": {},
   "source": [
    "# Convert date column to datetime format."
   ]
  },
  {
   "cell_type": "code",
   "execution_count": null,
   "id": "f752a3c1",
   "metadata": {},
   "outputs": [],
   "source": []
  },
  {
   "cell_type": "code",
   "execution_count": 5,
   "id": "01a316cb",
   "metadata": {},
   "outputs": [],
   "source": [
    "# date time the series created by df.sale_date\n",
    "df.sale_date = pd.to_datetime(df.sale_date,infer_datetime_format= True)"
   ]
  },
  {
   "cell_type": "code",
   "execution_count": 6,
   "id": "944a238d",
   "metadata": {},
   "outputs": [
    {
     "data": {
      "text/html": [
       "<div>\n",
       "<style scoped>\n",
       "    .dataframe tbody tr th:only-of-type {\n",
       "        vertical-align: middle;\n",
       "    }\n",
       "\n",
       "    .dataframe tbody tr th {\n",
       "        vertical-align: top;\n",
       "    }\n",
       "\n",
       "    .dataframe thead th {\n",
       "        text-align: right;\n",
       "    }\n",
       "</style>\n",
       "<table border=\"1\" class=\"dataframe\">\n",
       "  <thead>\n",
       "    <tr style=\"text-align: right;\">\n",
       "      <th></th>\n",
       "      <th>item_id</th>\n",
       "      <th>sale_id</th>\n",
       "      <th>sale_date</th>\n",
       "      <th>store_id</th>\n",
       "      <th>sale_amount</th>\n",
       "      <th>item_brand</th>\n",
       "      <th>item_name</th>\n",
       "      <th>item_price</th>\n",
       "      <th>store_zipcode</th>\n",
       "      <th>store_state</th>\n",
       "    </tr>\n",
       "  </thead>\n",
       "  <tbody>\n",
       "    <tr>\n",
       "      <th>0</th>\n",
       "      <td>1</td>\n",
       "      <td>1</td>\n",
       "      <td>2013-01-01</td>\n",
       "      <td>1</td>\n",
       "      <td>13</td>\n",
       "      <td>Riceland</td>\n",
       "      <td>Riceland American Jazmine Rice</td>\n",
       "      <td>0.84</td>\n",
       "      <td>78231</td>\n",
       "      <td>TX</td>\n",
       "    </tr>\n",
       "    <tr>\n",
       "      <th>1</th>\n",
       "      <td>1</td>\n",
       "      <td>1</td>\n",
       "      <td>2013-01-01</td>\n",
       "      <td>1</td>\n",
       "      <td>13</td>\n",
       "      <td>Riceland</td>\n",
       "      <td>Riceland American Jazmine Rice</td>\n",
       "      <td>0.84</td>\n",
       "      <td>78221</td>\n",
       "      <td>TX</td>\n",
       "    </tr>\n",
       "    <tr>\n",
       "      <th>2</th>\n",
       "      <td>1</td>\n",
       "      <td>1</td>\n",
       "      <td>2013-01-01</td>\n",
       "      <td>1</td>\n",
       "      <td>13</td>\n",
       "      <td>Riceland</td>\n",
       "      <td>Riceland American Jazmine Rice</td>\n",
       "      <td>0.84</td>\n",
       "      <td>78232</td>\n",
       "      <td>TX</td>\n",
       "    </tr>\n",
       "    <tr>\n",
       "      <th>3</th>\n",
       "      <td>1</td>\n",
       "      <td>1</td>\n",
       "      <td>2013-01-01</td>\n",
       "      <td>1</td>\n",
       "      <td>13</td>\n",
       "      <td>Riceland</td>\n",
       "      <td>Riceland American Jazmine Rice</td>\n",
       "      <td>0.84</td>\n",
       "      <td>78217</td>\n",
       "      <td>TX</td>\n",
       "    </tr>\n",
       "    <tr>\n",
       "      <th>4</th>\n",
       "      <td>1</td>\n",
       "      <td>1</td>\n",
       "      <td>2013-01-01</td>\n",
       "      <td>1</td>\n",
       "      <td>13</td>\n",
       "      <td>Riceland</td>\n",
       "      <td>Riceland American Jazmine Rice</td>\n",
       "      <td>0.84</td>\n",
       "      <td>78220</td>\n",
       "      <td>TX</td>\n",
       "    </tr>\n",
       "  </tbody>\n",
       "</table>\n",
       "</div>"
      ],
      "text/plain": [
       "   item_id  sale_id  sale_date  store_id  sale_amount item_brand  \\\n",
       "0        1        1 2013-01-01         1           13   Riceland   \n",
       "1        1        1 2013-01-01         1           13   Riceland   \n",
       "2        1        1 2013-01-01         1           13   Riceland   \n",
       "3        1        1 2013-01-01         1           13   Riceland   \n",
       "4        1        1 2013-01-01         1           13   Riceland   \n",
       "\n",
       "                        item_name  item_price  store_zipcode store_state  \n",
       "0  Riceland American Jazmine Rice        0.84          78231          TX  \n",
       "1  Riceland American Jazmine Rice        0.84          78221          TX  \n",
       "2  Riceland American Jazmine Rice        0.84          78232          TX  \n",
       "3  Riceland American Jazmine Rice        0.84          78217          TX  \n",
       "4  Riceland American Jazmine Rice        0.84          78220          TX  "
      ]
     },
     "execution_count": 6,
     "metadata": {},
     "output_type": "execute_result"
    }
   ],
   "source": [
    "df.head()"
   ]
  },
  {
   "cell_type": "markdown",
   "id": "8ef33521",
   "metadata": {},
   "source": [
    "#  Plot the distribution of sale_amount and item_price."
   ]
  },
  {
   "cell_type": "code",
   "execution_count": 7,
   "id": "1a15b77a",
   "metadata": {},
   "outputs": [
    {
     "data": {
      "text/plain": [
       "<AxesSubplot:xlabel='sale_amount', ylabel='Count'>"
      ]
     },
     "execution_count": 7,
     "metadata": {},
     "output_type": "execute_result"
    },
    {
     "data": {
      "image/png": "[encoded data removed]",
      "text/plain": [
       "<Figure size 640x480 with 1 Axes>"
      ]
     },
     "metadata": {},
     "output_type": "display_data"
    }
   ],
   "source": [
    "sns.histplot(df.sale_amount)\n",
    "# plt.title('distribution of sale amount')"
   ]
  },
  {
   "cell_type": "code",
   "execution_count": 8,
   "id": "2eb86782",
   "metadata": {},
   "outputs": [
    {
     "data": {
      "text/plain": [
       "<AxesSubplot:xlabel='item_price', ylabel='Count'>"
      ]
     },
     "execution_count": 8,
     "metadata": {},
     "output_type": "execute_result"
    },
    {
     "data": {
      "image/png": "[encoded data removed]",
      "text/plain": [
       "<Figure size 640x480 with 1 Axes>"
      ]
     },
     "metadata": {},
     "output_type": "display_data"
    }
   ],
   "source": [
    "sns.histplot(df.item_price)\n",
    "# plt.title('distribution of item price')"
   ]
  },
  {
   "cell_type": "markdown",
   "id": "bb125ec6",
   "metadata": {},
   "source": [
    "# Set the index to be the datetime variable."
   ]
  },
  {
   "cell_type": "code",
   "execution_count": 9,
   "id": "6cad8479",
   "metadata": {},
   "outputs": [],
   "source": [
    "df = df.set_index('sale_date')"
   ]
  },
  {
   "cell_type": "markdown",
   "id": "326b59b0",
   "metadata": {},
   "source": [
    "# Add a 'month' and 'day of week' column to your dataframe."
   ]
  },
  {
   "cell_type": "code",
   "execution_count": 10,
   "id": "6acd1580",
   "metadata": {},
   "outputs": [],
   "source": [
    "df['month']= df.index.strftime('%b')"
   ]
  },
  {
   "cell_type": "code",
   "execution_count": 11,
   "id": "b64428fb",
   "metadata": {},
   "outputs": [],
   "source": [
    "df['dow']= df.index.strftime('%a')"
   ]
  },
  {
   "cell_type": "markdown",
   "id": "3002e84e",
   "metadata": {},
   "source": [
    "# Add a column to your dataframe, sales_total, which is a derived from sale_amount (total items) and item_price."
   ]
  },
  {
   "cell_type": "code",
   "execution_count": 13,
   "id": "34dcc953",
   "metadata": {},
   "outputs": [],
   "source": [
    "df['sales_total'] = (df.sale_amount * df.item_price)"
   ]
  },
  {
   "cell_type": "markdown",
   "id": "f4bd7059",
   "metadata": {},
   "source": [
    "# Make sure all the work that you have done above is reproducible. That is, you should put the code above into separate functions and be able to re-run the functions and get the same results."
   ]
  },
  {
   "cell_type": "code",
   "execution_count": null,
   "id": "eb765bae",
   "metadata": {},
   "outputs": [],
   "source": [
    "def convert_to_datetime(df):\n",
    "    df.sale_date = pd.to_datetime(df.sale_date,infer_datetime_format= True)    return df\n",
    "    return df"
   ]
  },
  {
   "cell_type": "code",
   "execution_count": null,
   "id": "d291a1d0",
   "metadata": {},
   "outputs": [],
   "source": [
    "def add_feats(df):\n",
    "    \n",
    "    df = df.set_index('sale_date')\n",
    "    \n",
    "    df['month']= df.index.strftime('%b')\n",
    "    \n",
    "    df['dow']= df.index.strftime('%a')\n",
    "    \n",
    "    df['sales_total'] = (df.sales_amount * df.item_price)\n",
    "    "
   ]
  },
  {
   "cell_type": "markdown",
   "id": "c8deab03",
   "metadata": {},
   "source": [
    "# Using the OPS data acquired in the Acquire exercises opsd_germany_daily.csv, complete the following:"
   ]
  },
  {
   "cell_type": "code",
   "execution_count": 42,
   "id": "127c0152",
   "metadata": {},
   "outputs": [],
   "source": [
    "df = pd.read_csv('opsd_germany_daily.csv')"
   ]
  },
  {
   "cell_type": "markdown",
   "id": "17b50b7f",
   "metadata": {},
   "source": [
    "# Convert date column to datetime format."
   ]
  },
  {
   "cell_type": "code",
   "execution_count": 43,
   "id": "cd3c5e27",
   "metadata": {
    "scrolled": true
   },
   "outputs": [
    {
     "data": {
      "text/html": [
       "<div>\n",
       "<style scoped>\n",
       "    .dataframe tbody tr th:only-of-type {\n",
       "        vertical-align: middle;\n",
       "    }\n",
       "\n",
       "    .dataframe tbody tr th {\n",
       "        vertical-align: top;\n",
       "    }\n",
       "\n",
       "    .dataframe thead th {\n",
       "        text-align: right;\n",
       "    }\n",
       "</style>\n",
       "<table border=\"1\" class=\"dataframe\">\n",
       "  <thead>\n",
       "    <tr style=\"text-align: right;\">\n",
       "      <th></th>\n",
       "      <th>Date</th>\n",
       "      <th>Consumption</th>\n",
       "      <th>Wind</th>\n",
       "      <th>Solar</th>\n",
       "      <th>Wind+Solar</th>\n",
       "    </tr>\n",
       "  </thead>\n",
       "  <tbody>\n",
       "    <tr>\n",
       "      <th>0</th>\n",
       "      <td>2006-01-01</td>\n",
       "      <td>1069.184</td>\n",
       "      <td>NaN</td>\n",
       "      <td>NaN</td>\n",
       "      <td>NaN</td>\n",
       "    </tr>\n",
       "    <tr>\n",
       "      <th>1</th>\n",
       "      <td>2006-01-02</td>\n",
       "      <td>1380.521</td>\n",
       "      <td>NaN</td>\n",
       "      <td>NaN</td>\n",
       "      <td>NaN</td>\n",
       "    </tr>\n",
       "    <tr>\n",
       "      <th>2</th>\n",
       "      <td>2006-01-03</td>\n",
       "      <td>1442.533</td>\n",
       "      <td>NaN</td>\n",
       "      <td>NaN</td>\n",
       "      <td>NaN</td>\n",
       "    </tr>\n",
       "    <tr>\n",
       "      <th>3</th>\n",
       "      <td>2006-01-04</td>\n",
       "      <td>1457.217</td>\n",
       "      <td>NaN</td>\n",
       "      <td>NaN</td>\n",
       "      <td>NaN</td>\n",
       "    </tr>\n",
       "    <tr>\n",
       "      <th>4</th>\n",
       "      <td>2006-01-05</td>\n",
       "      <td>1477.131</td>\n",
       "      <td>NaN</td>\n",
       "      <td>NaN</td>\n",
       "      <td>NaN</td>\n",
       "    </tr>\n",
       "  </tbody>\n",
       "</table>\n",
       "</div>"
      ],
      "text/plain": [
       "        Date  Consumption  Wind  Solar  Wind+Solar\n",
       "0 2006-01-01     1069.184   NaN    NaN         NaN\n",
       "1 2006-01-02     1380.521   NaN    NaN         NaN\n",
       "2 2006-01-03     1442.533   NaN    NaN         NaN\n",
       "3 2006-01-04     1457.217   NaN    NaN         NaN\n",
       "4 2006-01-05     1477.131   NaN    NaN         NaN"
      ]
     },
     "execution_count": 43,
     "metadata": {},
     "output_type": "execute_result"
    }
   ],
   "source": [
    "df.Date = pd.to_datetime(df.Date, infer_datetime_format=True)\n",
    "df.head()"
   ]
  },
  {
   "cell_type": "markdown",
   "id": "9aa1060e",
   "metadata": {},
   "source": [
    "# Plot the distribution of each of your variables."
   ]
  },
  {
   "cell_type": "code",
   "execution_count": 46,
   "id": "766795f4",
   "metadata": {},
   "outputs": [
    {
     "data": {
      "image/png": "[encoded data removed]",
      "text/plain": [
       "<Figure size 640x480 with 1 Axes>"
      ]
     },
     "metadata": {},
     "output_type": "display_data"
    },
    {
     "data": {
      "image/png": "[encoded data removed]",
      "text/plain": [
       "<Figure size 640x480 with 1 Axes>"
      ]
     },
     "metadata": {},
     "output_type": "display_data"
    },
    {
     "data": {
      "image/png": "[encoded data removed]",
      "text/plain": [
       "<Figure size 640x480 with 1 Axes>"
      ]
     },
     "metadata": {},
     "output_type": "display_data"
    },
    {
     "data": {
      "image/png": "[encoded data removed]",
      "text/plain": [
       "<Figure size 640x480 with 1 Axes>"
      ]
     },
     "metadata": {},
     "output_type": "display_data"
    },
    {
     "data": {
      "image/png": "[encoded data removed]",
      "text/plain": [
       "<Figure size 640x480 with 1 Axes>"
      ]
     },
     "metadata": {},
     "output_type": "display_data"
    }
   ],
   "source": [
    "for col in df.columns:\n",
    " \n",
    "    sns.histplot(df[col])\n",
    "    plt.title('Distribution of {}'.format(col))\n",
    "    \n",
    "    plt.show()"
   ]
  },
  {
   "cell_type": "markdown",
   "id": "2b6b22cb",
   "metadata": {},
   "source": [
    "# Set the index to be the datetime variable."
   ]
  },
  {
   "cell_type": "code",
   "execution_count": 47,
   "id": "202e2bba",
   "metadata": {},
   "outputs": [],
   "source": [
    "df = df.set_index('Date')"
   ]
  },
  {
   "cell_type": "markdown",
   "id": "7bad5906",
   "metadata": {},
   "source": [
    "# Add a month and a year column to your dataframe."
   ]
  },
  {
   "cell_type": "code",
   "execution_count": 49,
   "id": "fd7173e4",
   "metadata": {},
   "outputs": [],
   "source": [
    "df['month'] = df.index.strftime('%m')"
   ]
  },
  {
   "cell_type": "code",
   "execution_count": 50,
   "id": "8a5e83f0",
   "metadata": {},
   "outputs": [],
   "source": [
    "df['year'] = df.index.strftime('%y')"
   ]
  },
  {
   "cell_type": "markdown",
   "id": "e9fca809",
   "metadata": {},
   "source": [
    "# Fill any missing values."
   ]
  },
  {
   "cell_type": "code",
   "execution_count": 52,
   "id": "81e0ec1f",
   "metadata": {},
   "outputs": [],
   "source": [
    "df.fillna(0, inplace=True)"
   ]
  },
  {
   "cell_type": "markdown",
   "id": "22a97502",
   "metadata": {},
   "source": [
    "# Make sure all the work that you have done above is reproducible. That is, you should put the code above into separate functions and be able to re-run the functions and get the same results."
   ]
  },
  {
   "cell_type": "code",
   "execution_count": 53,
   "id": "a722e5cf",
   "metadata": {},
   "outputs": [],
   "source": [
    "def clean_german(df):\n",
    "    \n",
    "    df.Date = pd.to_datetime(df.Date, infer_datetime_format=True)\n",
    "\n",
    "    df = df.set_index('Date')\n",
    "    \n",
    "    # creating features\n",
    "    df['month'] = df.index.strftime('%m')\n",
    "    df['year'] = df.index.strftime('%y')\n",
    "    \n",
    "    # fill nulls\n",
    "    df.fillna(0, inplace=True)"
   ]
  },
  {
   "cell_type": "code",
   "execution_count": null,
   "id": "d5b53ff7",
   "metadata": {},
   "outputs": [],
   "source": []
  }
 ],
 "metadata": {
  "kernelspec": {
   "display_name": "Python 3 (ipykernel)",
   "language": "python",
   "name": "python3"
  },
  "language_info": {
   "codemirror_mode": {
    "name": "ipython",
    "version": 3
   },
   "file_extension": ".py",
   "mimetype": "text/x-python",
   "name": "python",
   "nbconvert_exporter": "python",
   "pygments_lexer": "ipython3",
   "version": "3.9.13"
  },
  "toc": {
   "base_numbering": 1,
   "nav_menu": {},
   "number_sections": true,
   "sideBar": true,
   "skip_h1_title": false,
   "title_cell": "Table of Contents",
   "title_sidebar": "Contents",
   "toc_cell": false,
   "toc_position": {},
   "toc_section_display": true,
   "toc_window_display": false
  }
 },
 "nbformat": 4,
 "nbformat_minor": 5
}
