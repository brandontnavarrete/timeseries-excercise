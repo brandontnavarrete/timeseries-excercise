{
 "cells": [
  {
   "cell_type": "code",
   "execution_count": 1,
   "id": "6868eea5",
   "metadata": {},
   "outputs": [],
   "source": [
    "import numpy as np\n",
    "import pandas as pd\n",
    "import matplotlib.pyplot as plt\n",
    "import seaborn as sns\n",
    "\n",
    "from math import sqrt\n",
    "\n",
    "from sklearn.metrics import mean_squared_error\n",
    "from sklearn.model_selection import TimeSeriesSplit\n",
    "import statsmodels.api as sm\n",
    "from statsmodels.tsa.api import Holt\n",
    "\n",
    "\n",
    "import prepare as pr "
   ]
  },
  {
   "cell_type": "code",
   "execution_count": 2,
   "id": "b4c3a145",
   "metadata": {},
   "outputs": [],
   "source": [
    "df = pd.read_csv('saas.csv')"
   ]
  },
  {
   "cell_type": "markdown",
   "id": "cb072b19",
   "metadata": {},
   "source": [
    "\n",
    "# Prep"
   ]
  },
  {
   "cell_type": "code",
   "execution_count": 3,
   "id": "76242478",
   "metadata": {},
   "outputs": [],
   "source": [
    "# Lowercase column names\n",
    "df.columns = [col.lower() for col in df]"
   ]
  },
  {
   "cell_type": "code",
   "execution_count": 4,
   "id": "13d2351c",
   "metadata": {},
   "outputs": [],
   "source": [
    "# Create Datetime field\n",
    "df.month_invoiced = pd.to_datetime(df.month_invoiced)"
   ]
  },
  {
   "cell_type": "markdown",
   "id": "c5543de5",
   "metadata": {},
   "source": [
    "# Data Type Prep"
   ]
  },
  {
   "cell_type": "code",
   "execution_count": 5,
   "id": "8f0f5a4c",
   "metadata": {},
   "outputs": [],
   "source": [
    "df.subscription_type = df.subscription_type.astype(int)"
   ]
  },
  {
   "cell_type": "code",
   "execution_count": 6,
   "id": "6e13bd75",
   "metadata": {},
   "outputs": [],
   "source": [
    "df.subscription_type = df.amount.astype(int)"
   ]
  },
  {
   "cell_type": "markdown",
   "id": "385d770f",
   "metadata": {},
   "source": [
    "# DateTime"
   ]
  },
  {
   "cell_type": "code",
   "execution_count": 7,
   "id": "b88d8859",
   "metadata": {},
   "outputs": [],
   "source": [
    "# a datetime index is probably a good idea for time series analysis\n",
    "df = df.set_index('month_invoiced')"
   ]
  },
  {
   "cell_type": "code",
   "execution_count": 8,
   "id": "301c9144",
   "metadata": {},
   "outputs": [],
   "source": [
    "df = df.resample('M')[['amount']].sum()"
   ]
  },
  {
   "cell_type": "markdown",
   "id": "a7697c28",
   "metadata": {},
   "source": [
    "# Split Data"
   ]
  },
  {
   "cell_type": "code",
   "execution_count": 9,
   "id": "d4c7fb39",
   "metadata": {},
   "outputs": [],
   "source": [
    "# set train size to be 50% of total \n",
    "train_size = int(len(df) * 0.5)\n",
    "# set validate size to be 30% of total \n",
    "validate_size = int(len(df) * 0.3)\n",
    "# set test size to be number of rows remaining. \n",
    "test_size = int(len(df) - train_size - validate_size)"
   ]
  },
  {
   "cell_type": "code",
   "execution_count": 10,
   "id": "0ae949b2",
   "metadata": {},
   "outputs": [
    {
     "data": {
      "text/plain": [
       "38"
      ]
     },
     "execution_count": 10,
     "metadata": {},
     "output_type": "execute_result"
    }
   ],
   "source": [
    "# set end for validate\n",
    "validate_end_index = train_size + validate_size\n",
    "validate_end_index"
   ]
  },
  {
   "cell_type": "code",
   "execution_count": 11,
   "id": "6265c371",
   "metadata": {},
   "outputs": [],
   "source": [
    "# train will go from 0 to 23\n",
    "train = df[:train_size]"
   ]
  },
  {
   "cell_type": "code",
   "execution_count": 12,
   "id": "66289f97",
   "metadata": {},
   "outputs": [
    {
     "data": {
      "text/html": [
       "<div>\n",
       "<style scoped>\n",
       "    .dataframe tbody tr th:only-of-type {\n",
       "        vertical-align: middle;\n",
       "    }\n",
       "\n",
       "    .dataframe tbody tr th {\n",
       "        vertical-align: top;\n",
       "    }\n",
       "\n",
       "    .dataframe thead th {\n",
       "        text-align: right;\n",
       "    }\n",
       "</style>\n",
       "<table border=\"1\" class=\"dataframe\">\n",
       "  <thead>\n",
       "    <tr style=\"text-align: right;\">\n",
       "      <th></th>\n",
       "      <th>amount</th>\n",
       "    </tr>\n",
       "    <tr>\n",
       "      <th>month_invoiced</th>\n",
       "      <th></th>\n",
       "    </tr>\n",
       "  </thead>\n",
       "  <tbody>\n",
       "    <tr>\n",
       "      <th>2014-01-31</th>\n",
       "      <td>35850.0</td>\n",
       "    </tr>\n",
       "    <tr>\n",
       "      <th>2014-02-28</th>\n",
       "      <td>37190.0</td>\n",
       "    </tr>\n",
       "    <tr>\n",
       "      <th>2014-03-31</th>\n",
       "      <td>38295.0</td>\n",
       "    </tr>\n",
       "    <tr>\n",
       "      <th>2014-04-30</th>\n",
       "      <td>39255.0</td>\n",
       "    </tr>\n",
       "    <tr>\n",
       "      <th>2014-05-31</th>\n",
       "      <td>40355.0</td>\n",
       "    </tr>\n",
       "  </tbody>\n",
       "</table>\n",
       "</div>"
      ],
      "text/plain": [
       "                 amount\n",
       "month_invoiced         \n",
       "2014-01-31      35850.0\n",
       "2014-02-28      37190.0\n",
       "2014-03-31      38295.0\n",
       "2014-04-30      39255.0\n",
       "2014-05-31      40355.0"
      ]
     },
     "execution_count": 12,
     "metadata": {},
     "output_type": "execute_result"
    }
   ],
   "source": [
    "train.head()"
   ]
  },
  {
   "cell_type": "code",
   "execution_count": 13,
   "id": "8d866d9d",
   "metadata": {},
   "outputs": [],
   "source": [
    "# validate will go from 24 to 37\n",
    "validate = df[train_size:validate_end_index]"
   ]
  },
  {
   "cell_type": "code",
   "execution_count": 14,
   "id": "806b715c",
   "metadata": {},
   "outputs": [
    {
     "data": {
      "text/html": [
       "<div>\n",
       "<style scoped>\n",
       "    .dataframe tbody tr th:only-of-type {\n",
       "        vertical-align: middle;\n",
       "    }\n",
       "\n",
       "    .dataframe tbody tr th {\n",
       "        vertical-align: top;\n",
       "    }\n",
       "\n",
       "    .dataframe thead th {\n",
       "        text-align: right;\n",
       "    }\n",
       "</style>\n",
       "<table border=\"1\" class=\"dataframe\">\n",
       "  <thead>\n",
       "    <tr style=\"text-align: right;\">\n",
       "      <th></th>\n",
       "      <th>amount</th>\n",
       "    </tr>\n",
       "    <tr>\n",
       "      <th>month_invoiced</th>\n",
       "      <th></th>\n",
       "    </tr>\n",
       "  </thead>\n",
       "  <tbody>\n",
       "    <tr>\n",
       "      <th>2016-01-31</th>\n",
       "      <td>51955.0</td>\n",
       "    </tr>\n",
       "    <tr>\n",
       "      <th>2016-02-29</th>\n",
       "      <td>51955.0</td>\n",
       "    </tr>\n",
       "    <tr>\n",
       "      <th>2016-03-31</th>\n",
       "      <td>52000.0</td>\n",
       "    </tr>\n",
       "    <tr>\n",
       "      <th>2016-04-30</th>\n",
       "      <td>52190.0</td>\n",
       "    </tr>\n",
       "    <tr>\n",
       "      <th>2016-05-31</th>\n",
       "      <td>52325.0</td>\n",
       "    </tr>\n",
       "  </tbody>\n",
       "</table>\n",
       "</div>"
      ],
      "text/plain": [
       "                 amount\n",
       "month_invoiced         \n",
       "2016-01-31      51955.0\n",
       "2016-02-29      51955.0\n",
       "2016-03-31      52000.0\n",
       "2016-04-30      52190.0\n",
       "2016-05-31      52325.0"
      ]
     },
     "execution_count": 14,
     "metadata": {},
     "output_type": "execute_result"
    }
   ],
   "source": [
    "validate.head()"
   ]
  },
  {
   "cell_type": "code",
   "execution_count": 15,
   "id": "f597686c",
   "metadata": {},
   "outputs": [],
   "source": [
    "# test will include 38 to the end\n",
    "test = df[validate_end_index:]"
   ]
  },
  {
   "cell_type": "code",
   "execution_count": 16,
   "id": "35904d24",
   "metadata": {},
   "outputs": [
    {
     "data": {
      "text/html": [
       "<div>\n",
       "<style scoped>\n",
       "    .dataframe tbody tr th:only-of-type {\n",
       "        vertical-align: middle;\n",
       "    }\n",
       "\n",
       "    .dataframe tbody tr th {\n",
       "        vertical-align: top;\n",
       "    }\n",
       "\n",
       "    .dataframe thead th {\n",
       "        text-align: right;\n",
       "    }\n",
       "</style>\n",
       "<table border=\"1\" class=\"dataframe\">\n",
       "  <thead>\n",
       "    <tr style=\"text-align: right;\">\n",
       "      <th></th>\n",
       "      <th>amount</th>\n",
       "    </tr>\n",
       "    <tr>\n",
       "      <th>month_invoiced</th>\n",
       "      <th></th>\n",
       "    </tr>\n",
       "  </thead>\n",
       "  <tbody>\n",
       "    <tr>\n",
       "      <th>2017-03-31</th>\n",
       "      <td>53480.0</td>\n",
       "    </tr>\n",
       "    <tr>\n",
       "      <th>2017-04-30</th>\n",
       "      <td>53350.0</td>\n",
       "    </tr>\n",
       "    <tr>\n",
       "      <th>2017-05-31</th>\n",
       "      <td>53340.0</td>\n",
       "    </tr>\n",
       "    <tr>\n",
       "      <th>2017-06-30</th>\n",
       "      <td>53405.0</td>\n",
       "    </tr>\n",
       "    <tr>\n",
       "      <th>2017-07-31</th>\n",
       "      <td>53680.0</td>\n",
       "    </tr>\n",
       "  </tbody>\n",
       "</table>\n",
       "</div>"
      ],
      "text/plain": [
       "                 amount\n",
       "month_invoiced         \n",
       "2017-03-31      53480.0\n",
       "2017-04-30      53350.0\n",
       "2017-05-31      53340.0\n",
       "2017-06-30      53405.0\n",
       "2017-07-31      53680.0"
      ]
     },
     "execution_count": 16,
     "metadata": {},
     "output_type": "execute_result"
    }
   ],
   "source": [
    "test.head()"
   ]
  },
  {
   "cell_type": "markdown",
   "id": "e22798c2",
   "metadata": {},
   "source": [
    "# function"
   ]
  },
  {
   "cell_type": "code",
   "execution_count": 17,
   "id": "5ff90623",
   "metadata": {},
   "outputs": [],
   "source": [
    "def evaluate(target_var):\n",
    "    '''\n",
    "    This function will take the actual values of the target_var from validate, \n",
    "    and the predicted values stored in yhat_df, \n",
    "    and compute the rmse, rounding to 0 decimal places. \n",
    "    it will return the rmse. \n",
    "    '''\n",
    "    rmse = round(sqrt(mean_squared_error(validate[target_var], yhat_df[target_var])), 0)\n",
    "    return rmse"
   ]
  },
  {
   "cell_type": "code",
   "execution_count": 18,
   "id": "78263887",
   "metadata": {},
   "outputs": [],
   "source": [
    "def plot_and_eval(target_var):\n",
    "    '''\n",
    "    This function takes in the target var name (string), and returns a plot\n",
    "    of the values of train for that variable, validate, and the predicted values from yhat_df. \n",
    "    it will als lable the rmse. \n",
    "    '''\n",
    "    plt.figure(figsize = (12,4))\n",
    "    plt.plot(train[target_var], label='Train', linewidth=1)\n",
    "    plt.plot(validate[target_var], label='Validate', linewidth=1)\n",
    "    plt.plot(yhat_df[target_var], label=target_var)\n",
    "    plt.title(target_var)\n",
    "    plt.legend()\n",
    "    rmse = evaluate(target_var)\n",
    "    print(target_var, '-- RMSE: {:.0f}'.format(rmse))\n",
    "    plt.show()"
   ]
  },
  {
   "cell_type": "code",
   "execution_count": 19,
   "id": "046ac0c5",
   "metadata": {},
   "outputs": [
    {
     "data": {
      "text/html": [
       "<div>\n",
       "<style scoped>\n",
       "    .dataframe tbody tr th:only-of-type {\n",
       "        vertical-align: middle;\n",
       "    }\n",
       "\n",
       "    .dataframe tbody tr th {\n",
       "        vertical-align: top;\n",
       "    }\n",
       "\n",
       "    .dataframe thead th {\n",
       "        text-align: right;\n",
       "    }\n",
       "</style>\n",
       "<table border=\"1\" class=\"dataframe\">\n",
       "  <thead>\n",
       "    <tr style=\"text-align: right;\">\n",
       "      <th></th>\n",
       "      <th>model_type</th>\n",
       "      <th>target_var</th>\n",
       "      <th>rmse</th>\n",
       "    </tr>\n",
       "  </thead>\n",
       "  <tbody>\n",
       "  </tbody>\n",
       "</table>\n",
       "</div>"
      ],
      "text/plain": [
       "Empty DataFrame\n",
       "Columns: [model_type, target_var, rmse]\n",
       "Index: []"
      ]
     },
     "execution_count": 19,
     "metadata": {},
     "output_type": "execute_result"
    }
   ],
   "source": [
    "# create an empty dataframe\n",
    "eval_df = pd.DataFrame(columns=['model_type', 'target_var', 'rmse'])\n",
    "eval_df"
   ]
  },
  {
   "cell_type": "code",
   "execution_count": 20,
   "id": "0819e214",
   "metadata": {},
   "outputs": [],
   "source": [
    "# function to store the rmse so that we can compare\n",
    "def append_eval_df(model_type, target_var):\n",
    "    '''\n",
    "    this function takes in as arguments the type of model run, and the name of the target variable. \n",
    "    It returns the eval_df with the rmse appended to it for that model and target_var. \n",
    "    '''\n",
    "    rmse = evaluate(target_var)\n",
    "    d = {'model_type': [model_type], 'target_var': [target_var],\n",
    "        'rmse': [rmse]}\n",
    "    d = pd.DataFrame(d)\n",
    "    return eval_df.append(d, ignore_index = True)"
   ]
  },
  {
   "cell_type": "markdown",
   "id": "5e29e4f8",
   "metadata": {},
   "source": [
    "# Last observed Value"
   ]
  },
  {
   "cell_type": "code",
   "execution_count": 21,
   "id": "0f8a6b77",
   "metadata": {},
   "outputs": [
    {
     "data": {
      "text/plain": [
       "51505.0"
      ]
     },
     "execution_count": 21,
     "metadata": {},
     "output_type": "execute_result"
    }
   ],
   "source": [
    "# take the last item of amount and assign to variable\n",
    "amount = train['amount'][-1:][0]\n",
    "amount"
   ]
  },
  {
   "cell_type": "code",
   "execution_count": 22,
   "id": "9bfebe29",
   "metadata": {},
   "outputs": [
    {
     "data": {
      "text/html": [
       "<div>\n",
       "<style scoped>\n",
       "    .dataframe tbody tr th:only-of-type {\n",
       "        vertical-align: middle;\n",
       "    }\n",
       "\n",
       "    .dataframe tbody tr th {\n",
       "        vertical-align: top;\n",
       "    }\n",
       "\n",
       "    .dataframe thead th {\n",
       "        text-align: right;\n",
       "    }\n",
       "</style>\n",
       "<table border=\"1\" class=\"dataframe\">\n",
       "  <thead>\n",
       "    <tr style=\"text-align: right;\">\n",
       "      <th></th>\n",
       "      <th>amount</th>\n",
       "    </tr>\n",
       "    <tr>\n",
       "      <th>month_invoiced</th>\n",
       "      <th></th>\n",
       "    </tr>\n",
       "  </thead>\n",
       "  <tbody>\n",
       "    <tr>\n",
       "      <th>2016-01-31</th>\n",
       "      <td>51505.0</td>\n",
       "    </tr>\n",
       "    <tr>\n",
       "      <th>2016-02-29</th>\n",
       "      <td>51505.0</td>\n",
       "    </tr>\n",
       "    <tr>\n",
       "      <th>2016-03-31</th>\n",
       "      <td>51505.0</td>\n",
       "    </tr>\n",
       "    <tr>\n",
       "      <th>2016-04-30</th>\n",
       "      <td>51505.0</td>\n",
       "    </tr>\n",
       "    <tr>\n",
       "      <th>2016-05-31</th>\n",
       "      <td>51505.0</td>\n",
       "    </tr>\n",
       "    <tr>\n",
       "      <th>2016-06-30</th>\n",
       "      <td>51505.0</td>\n",
       "    </tr>\n",
       "    <tr>\n",
       "      <th>2016-07-31</th>\n",
       "      <td>51505.0</td>\n",
       "    </tr>\n",
       "    <tr>\n",
       "      <th>2016-08-31</th>\n",
       "      <td>51505.0</td>\n",
       "    </tr>\n",
       "    <tr>\n",
       "      <th>2016-09-30</th>\n",
       "      <td>51505.0</td>\n",
       "    </tr>\n",
       "    <tr>\n",
       "      <th>2016-10-31</th>\n",
       "      <td>51505.0</td>\n",
       "    </tr>\n",
       "    <tr>\n",
       "      <th>2016-11-30</th>\n",
       "      <td>51505.0</td>\n",
       "    </tr>\n",
       "    <tr>\n",
       "      <th>2016-12-31</th>\n",
       "      <td>51505.0</td>\n",
       "    </tr>\n",
       "    <tr>\n",
       "      <th>2017-01-31</th>\n",
       "      <td>51505.0</td>\n",
       "    </tr>\n",
       "    <tr>\n",
       "      <th>2017-02-28</th>\n",
       "      <td>51505.0</td>\n",
       "    </tr>\n",
       "  </tbody>\n",
       "</table>\n",
       "</div>"
      ],
      "text/plain": [
       "                 amount\n",
       "month_invoiced         \n",
       "2016-01-31      51505.0\n",
       "2016-02-29      51505.0\n",
       "2016-03-31      51505.0\n",
       "2016-04-30      51505.0\n",
       "2016-05-31      51505.0\n",
       "2016-06-30      51505.0\n",
       "2016-07-31      51505.0\n",
       "2016-08-31      51505.0\n",
       "2016-09-30      51505.0\n",
       "2016-10-31      51505.0\n",
       "2016-11-30      51505.0\n",
       "2016-12-31      51505.0\n",
       "2017-01-31      51505.0\n",
       "2017-02-28      51505.0"
      ]
     },
     "execution_count": 22,
     "metadata": {},
     "output_type": "execute_result"
    }
   ],
   "source": [
    "yhat_df = pd.DataFrame(\n",
    "    {'amount': [amount]},\n",
    "    index=validate.index)\n",
    "\n",
    "yhat_df.head(15)"
   ]
  },
  {
   "cell_type": "code",
   "execution_count": 23,
   "id": "f41690b4",
   "metadata": {},
   "outputs": [
    {
     "name": "stdout",
     "output_type": "stream",
     "text": [
      "amount -- RMSE: 1343\n"
     ]
    },
    {
     "data": {
      "image/png": "[encoded data removed]",
      "text/plain": [
       "<Figure size 1200x400 with 1 Axes>"
      ]
     },
     "metadata": {},
     "output_type": "display_data"
    }
   ],
   "source": [
    "plot_and_eval('amount')"
   ]
  },
  {
   "cell_type": "code",
   "execution_count": null,
   "id": "47a6b0dc",
   "metadata": {},
   "outputs": [],
   "source": []
  },
  {
   "cell_type": "markdown",
   "id": "ba928f08",
   "metadata": {},
   "source": [
    "# Forecast, plot and evaluate using each of the 4 parametric based methods we discussed:"
   ]
  },
  {
   "cell_type": "markdown",
   "id": "5cf305b1",
   "metadata": {},
   "source": [
    "## Simple Average"
   ]
  },
  {
   "cell_type": "markdown",
   "id": "124f4467",
   "metadata": {},
   "source": [
    "#### making predictions"
   ]
  },
  {
   "cell_type": "code",
   "execution_count": 24,
   "id": "515263ba",
   "metadata": {},
   "outputs": [
    {
     "data": {
      "text/plain": [
       "45568.54"
      ]
     },
     "execution_count": 24,
     "metadata": {},
     "output_type": "execute_result"
    }
   ],
   "source": [
    "# compute average\n",
    "amount = round(train['amount'].mean(), 2)\n",
    "amount"
   ]
  },
  {
   "cell_type": "code",
   "execution_count": 25,
   "id": "47a12c64",
   "metadata": {},
   "outputs": [],
   "source": [
    "def make_predictions(amount=None):\n",
    "    yhat_df = pd.DataFrame({'amount': [amount]},\n",
    "                          index=validate.index)\n",
    "    return yhat_df"
   ]
  },
  {
   "cell_type": "code",
   "execution_count": 26,
   "id": "06aee71c",
   "metadata": {},
   "outputs": [
    {
     "data": {
      "text/html": [
       "<div>\n",
       "<style scoped>\n",
       "    .dataframe tbody tr th:only-of-type {\n",
       "        vertical-align: middle;\n",
       "    }\n",
       "\n",
       "    .dataframe tbody tr th {\n",
       "        vertical-align: top;\n",
       "    }\n",
       "\n",
       "    .dataframe thead th {\n",
       "        text-align: right;\n",
       "    }\n",
       "</style>\n",
       "<table border=\"1\" class=\"dataframe\">\n",
       "  <thead>\n",
       "    <tr style=\"text-align: right;\">\n",
       "      <th></th>\n",
       "      <th>amount</th>\n",
       "    </tr>\n",
       "    <tr>\n",
       "      <th>month_invoiced</th>\n",
       "      <th></th>\n",
       "    </tr>\n",
       "  </thead>\n",
       "  <tbody>\n",
       "    <tr>\n",
       "      <th>2016-01-31</th>\n",
       "      <td>45568.54</td>\n",
       "    </tr>\n",
       "    <tr>\n",
       "      <th>2016-02-29</th>\n",
       "      <td>45568.54</td>\n",
       "    </tr>\n",
       "    <tr>\n",
       "      <th>2016-03-31</th>\n",
       "      <td>45568.54</td>\n",
       "    </tr>\n",
       "    <tr>\n",
       "      <th>2016-04-30</th>\n",
       "      <td>45568.54</td>\n",
       "    </tr>\n",
       "    <tr>\n",
       "      <th>2016-05-31</th>\n",
       "      <td>45568.54</td>\n",
       "    </tr>\n",
       "  </tbody>\n",
       "</table>\n",
       "</div>"
      ],
      "text/plain": [
       "                  amount\n",
       "month_invoiced          \n",
       "2016-01-31      45568.54\n",
       "2016-02-29      45568.54\n",
       "2016-03-31      45568.54\n",
       "2016-04-30      45568.54\n",
       "2016-05-31      45568.54"
      ]
     },
     "execution_count": 26,
     "metadata": {},
     "output_type": "execute_result"
    }
   ],
   "source": [
    "yhat_df = make_predictions(amount)\n",
    "yhat_df.head()"
   ]
  },
  {
   "cell_type": "code",
   "execution_count": 27,
   "id": "1f388671",
   "metadata": {},
   "outputs": [
    {
     "ename": "SyntaxError",
     "evalue": "invalid syntax (3521306732.py, line 1)",
     "output_type": "error",
     "traceback": [
      "\u001b[1;36m  File \u001b[1;32m\"C:\\Users\\brand\\AppData\\Local\\Temp\\ipykernel_20532\\3521306732.py\"\u001b[1;36m, line \u001b[1;32m1\u001b[0m\n\u001b[1;33m    3for col in train.columns:\u001b[0m\n\u001b[1;37m     ^\u001b[0m\n\u001b[1;31mSyntaxError\u001b[0m\u001b[1;31m:\u001b[0m invalid syntax\n"
     ]
    }
   ],
   "source": [
    "3for col in train.columns:\n",
    "    plot_and_eval(col)"
   ]
  },
  {
   "cell_type": "code",
   "execution_count": null,
   "id": "a00bf0b5",
   "metadata": {},
   "outputs": [],
   "source": [
    "for col in train.columns:\n",
    "    eval_df = append_eval_df(model_type = 'last_observed_value', \n",
    "                             target_var = col)\n"
   ]
  },
  {
   "cell_type": "code",
   "execution_count": null,
   "id": "d205328a",
   "metadata": {},
   "outputs": [],
   "source": [
    "for col in train.columns:\n",
    "    eval_df = append_eval_df(model_type='simple_average', \n",
    "                            target_var = col)\n",
    "\n"
   ]
  },
  {
   "cell_type": "code",
   "execution_count": null,
   "id": "e371f04c",
   "metadata": {},
   "outputs": [],
   "source": [
    "eval_df\n"
   ]
  },
  {
   "cell_type": "markdown",
   "id": "8f4ea2e6",
   "metadata": {},
   "source": [
    "## Moving Average"
   ]
  },
  {
   "cell_type": "code",
   "execution_count": null,
   "id": "08185699",
   "metadata": {},
   "outputs": [],
   "source": []
  },
  {
   "cell_type": "markdown",
   "id": "1fe033d6",
   "metadata": {},
   "source": [
    "## Moving Average"
   ]
  },
  {
   "cell_type": "markdown",
   "id": "c34bc291",
   "metadata": {},
   "source": [
    "## Holt's Linear Trend Model"
   ]
  },
  {
   "cell_type": "code",
   "execution_count": null,
   "id": "4eb6269a",
   "metadata": {},
   "outputs": [],
   "source": []
  },
  {
   "cell_type": "markdown",
   "id": "21915f6b",
   "metadata": {},
   "source": [
    "## Holt's Linear Trend Model"
   ]
  },
  {
   "cell_type": "markdown",
   "id": "b9235b56",
   "metadata": {},
   "source": [
    "## Based on previous year/month/etc., this is up to you."
   ]
  },
  {
   "cell_type": "code",
   "execution_count": null,
   "id": "418a4674",
   "metadata": {},
   "outputs": [],
   "source": []
  },
  {
   "cell_type": "code",
   "execution_count": null,
   "id": "fd53e6f3",
   "metadata": {},
   "outputs": [],
   "source": []
  },
  {
   "cell_type": "code",
   "execution_count": null,
   "id": "ff240da4",
   "metadata": {},
   "outputs": [],
   "source": []
  },
  {
   "cell_type": "code",
   "execution_count": null,
   "id": "21e71f20",
   "metadata": {},
   "outputs": [],
   "source": []
  },
  {
   "cell_type": "code",
   "execution_count": null,
   "id": "bc53ec22",
   "metadata": {},
   "outputs": [],
   "source": []
  },
  {
   "cell_type": "code",
   "execution_count": null,
   "id": "316ae57a",
   "metadata": {},
   "outputs": [],
   "source": []
  },
  {
   "cell_type": "code",
   "execution_count": null,
   "id": "4eb980bd",
   "metadata": {},
   "outputs": [],
   "source": []
  },
  {
   "cell_type": "code",
   "execution_count": null,
   "id": "8bae48bc",
   "metadata": {},
   "outputs": [],
   "source": []
  },
  {
   "cell_type": "code",
   "execution_count": null,
   "id": "79382782",
   "metadata": {},
   "outputs": [],
   "source": []
  },
  {
   "cell_type": "code",
   "execution_count": null,
   "id": "0315550c",
   "metadata": {},
   "outputs": [],
   "source": []
  },
  {
   "cell_type": "code",
   "execution_count": null,
   "id": "e2067cfc",
   "metadata": {},
   "outputs": [],
   "source": []
  },
  {
   "cell_type": "code",
   "execution_count": null,
   "id": "ab09e584",
   "metadata": {},
   "outputs": [],
   "source": []
  },
  {
   "cell_type": "code",
   "execution_count": null,
   "id": "43bc97d5",
   "metadata": {},
   "outputs": [],
   "source": []
  },
  {
   "cell_type": "code",
   "execution_count": null,
   "id": "9053e5d2",
   "metadata": {},
   "outputs": [],
   "source": []
  },
  {
   "cell_type": "code",
   "execution_count": null,
   "id": "7e6b10be",
   "metadata": {},
   "outputs": [],
   "source": []
  },
  {
   "cell_type": "code",
   "execution_count": null,
   "id": "d4e10369",
   "metadata": {},
   "outputs": [],
   "source": [
    "# dfs = df.sample(10000)"
   ]
  },
  {
   "cell_type": "markdown",
   "id": "6eccf84c",
   "metadata": {},
   "source": [
    "# clean"
   ]
  },
  {
   "cell_type": "code",
   "execution_count": null,
   "id": "7eb2e85e",
   "metadata": {},
   "outputs": [],
   "source": [
    "dfs.Month_Invoiced = pd.to_datetime(dfs.Month_Invoiced)"
   ]
  },
  {
   "cell_type": "code",
   "execution_count": null,
   "id": "13f42547",
   "metadata": {},
   "outputs": [],
   "source": [
    "dfs.rename(columns={\"Month_Invoiced\":\"date\"},inplace= True)"
   ]
  },
  {
   "cell_type": "code",
   "execution_count": null,
   "id": "b6e0c98b",
   "metadata": {},
   "outputs": [],
   "source": [
    "dfs.head(1)"
   ]
  },
  {
   "cell_type": "code",
   "execution_count": null,
   "id": "c3da8755",
   "metadata": {},
   "outputs": [],
   "source": [
    "dfs.shape"
   ]
  },
  {
   "cell_type": "code",
   "execution_count": null,
   "id": "3023c038",
   "metadata": {},
   "outputs": [],
   "source": [
    "# dfs.nunique(Invoice_Id)"
   ]
  },
  {
   "cell_type": "code",
   "execution_count": null,
   "id": "642d3325",
   "metadata": {
    "scrolled": true
   },
   "outputs": [],
   "source": [
    "dfs.Subscription_Type.value_counts()"
   ]
  },
  {
   "cell_type": "code",
   "execution_count": null,
   "id": "78b75e26",
   "metadata": {},
   "outputs": [],
   "source": [
    "dfs.Amount.value_counts() "
   ]
  },
  {
   "cell_type": "code",
   "execution_count": null,
   "id": "c28121e7",
   "metadata": {},
   "outputs": [],
   "source": [
    "dfs = dfs.set_index('date')"
   ]
  },
  {
   "cell_type": "code",
   "execution_count": null,
   "id": "280b1373",
   "metadata": {},
   "outputs": [],
   "source": [
    "print('Date Range:', dfs.index.min(), 'to', dfs.index.max())\n",
    "print('Shape:', dfs.shape)\n",
    "\n"
   ]
  },
  {
   "cell_type": "code",
   "execution_count": null,
   "id": "76e1b6c4",
   "metadata": {},
   "outputs": [],
   "source": [
    "dfs = dfs.fillna(0)"
   ]
  },
  {
   "cell_type": "markdown",
   "id": "2536cb56",
   "metadata": {},
   "source": [
    "# end clean"
   ]
  },
  {
   "cell_type": "markdown",
   "id": "acf65c58",
   "metadata": {},
   "source": [
    "# Split data (train/validate/test) and resample by any period except daily. Aggregate using the sum."
   ]
  },
  {
   "cell_type": "code",
   "execution_count": null,
   "id": "d409400f",
   "metadata": {},
   "outputs": [],
   "source": [
    "train_size = int(len(dfs) * .5)\n",
    "validate_size = int(len(dfs) * .3)\n",
    "test_size = int(len(dfs) - train_size - validate_size)\n",
    "validate_end_index = train_size + validate_size\n",
    "\n",
    "# split into train, validation, test\n",
    "train = dfs[: train_size]\n",
    "validate = dfs[train_size : validate_end_index]\n",
    "test = dfs[validate_end_index : ]"
   ]
  },
  {
   "cell_type": "markdown",
   "id": "9dad7544",
   "metadata": {},
   "source": [
    "# visualize the split"
   ]
  },
  {
   "cell_type": "code",
   "execution_count": null,
   "id": "92314e4c",
   "metadata": {},
   "outputs": [],
   "source": [
    "train.shape,validate.shape,test.shape"
   ]
  },
  {
   "cell_type": "code",
   "execution_count": null,
   "id": "54964360",
   "metadata": {},
   "outputs": [],
   "source": [
    "\n",
    "plt.plot(train.index, train.Amount)\n",
    "plt.plot(validate.index, validate.Amount)\n",
    "plt.plot(test.index, test.Amount)"
   ]
  },
  {
   "cell_type": "code",
   "execution_count": null,
   "id": "842a5e57",
   "metadata": {},
   "outputs": [],
   "source": [
    "plt.plot(train.index, train.Subscription_Type)\n",
    "plt.plot(validate.index, validate.Subscription_Type)\n",
    "plt.plot(test.index, test.Subscription_Type)"
   ]
  },
  {
   "cell_type": "markdown",
   "id": "3fb50970",
   "metadata": {},
   "source": [
    "# resample"
   ]
  },
  {
   "cell_type": "code",
   "execution_count": null,
   "id": "e7f3e5c7",
   "metadata": {},
   "outputs": [],
   "source": [
    "y = train.resample('D').Amount.mean()\n",
    "y.head()"
   ]
  },
  {
   "cell_type": "code",
   "execution_count": null,
   "id": "05382d7c",
   "metadata": {},
   "outputs": [],
   "source": [
    "# Plot the M average & the 7-day moving average. Compare the 2 plots.\n",
    "y.resample('M').mean().plot(label='Resampled Weekly', alpha=.6, color = 'blue')\n",
    "y.resample('M').mean().rolling(3).mean().plot(label='Resampled Weekly', alpha=.6, color = 'blue')\n",
    "\n",
    "plt.legend()"
   ]
  },
  {
   "cell_type": "markdown",
   "id": "4a02c586",
   "metadata": {},
   "source": [
    "# functions that might help"
   ]
  },
  {
   "cell_type": "code",
   "execution_count": null,
   "id": "39dedc1e",
   "metadata": {},
   "outputs": [],
   "source": [
    "# evaluation function to compute rmse\n",
    "def evaluate(target_var):\n",
    "    rmse = round(sqrt(mean_squared_error(validate[target_var], yhat_df[target_var])), 0)\n",
    "    return rmse\n"
   ]
  },
  {
   "cell_type": "code",
   "execution_count": null,
   "id": "a0378092",
   "metadata": {},
   "outputs": [],
   "source": [
    "# plot and evaluate \n",
    "def plot_and_eval(target_var):\n",
    "    plt.figure(figsize = (12,4))\n",
    "    plt.plot(train[target_var], label = 'Train', linewidth = 1)\n",
    "    plt.plot(validate[target_var], label = 'Validate', linewidth = 1)\n",
    "    plt.plot(yhat_df[target_var])\n",
    "    plt.title(target_var)\n",
    "    rmse = evaluate(target_var)\n",
    "    print(target_var, '-- RMSE: {:.0f}'.format(rmse))\n",
    "    plt.show()"
   ]
  },
  {
   "cell_type": "code",
   "execution_count": null,
   "id": "6e415e59",
   "metadata": {},
   "outputs": [],
   "source": [
    "# Create the empty dataframe\n",
    "eval_df = pd.DataFrame(columns=['model_type', 'target_var', 'rmse'])\n",
    "\n",
    "# function to store rmse for comparison purposes\n",
    "def append_eval_df(model_type, target_var):\n",
    "    rmse = evaluate(target_var)\n",
    "    d = {'model_type': [model_type], 'target_var': [target_var], 'rmse': [rmse]}\n",
    "    d = pd.DataFrame(d)\n",
    "    return eval_df.append(d, ignore_index = True)"
   ]
  },
  {
   "cell_type": "markdown",
   "id": "2c749ebf",
   "metadata": {},
   "source": [
    "# make predictions"
   ]
  },
  {
   "cell_type": "code",
   "execution_count": null,
   "id": "84c2baf0",
   "metadata": {},
   "outputs": [],
   "source": [
    "subt = train['Subscription_Type'][-1:][0]"
   ]
  },
  {
   "cell_type": "code",
   "execution_count": null,
   "id": "e7709e2b",
   "metadata": {},
   "outputs": [],
   "source": [
    "amnt = train['Amount'][-1:][0]"
   ]
  },
  {
   "cell_type": "code",
   "execution_count": null,
   "id": "e25bed0f",
   "metadata": {},
   "outputs": [],
   "source": [
    "yhat_df = pd.DataFrame({'Subscription_Type': [subt], 'amount': [amnt]}, \n",
    "                       index = validate.index)\n"
   ]
  },
  {
   "cell_type": "code",
   "execution_count": null,
   "id": "976be23b",
   "metadata": {
    "scrolled": true
   },
   "outputs": [],
   "source": [
    "yhat_df.head()"
   ]
  },
  {
   "cell_type": "code",
   "execution_count": null,
   "id": "6e5232b1",
   "metadata": {},
   "outputs": [],
   "source": [
    " plot_and_eval(col)"
   ]
  },
  {
   "cell_type": "markdown",
   "id": "4be3beba",
   "metadata": {},
   "source": [
    "# Forecast, plot and evaluate using each of the 4 parametric based methods we discussed:"
   ]
  },
  {
   "cell_type": "markdown",
   "id": "ab28fe34",
   "metadata": {},
   "source": [
    "# Simple Average"
   ]
  },
  {
   "cell_type": "code",
   "execution_count": 28,
   "id": "f0571365",
   "metadata": {},
   "outputs": [
    {
     "data": {
      "text/plain": [
       "45568.54"
      ]
     },
     "execution_count": 28,
     "metadata": {},
     "output_type": "execute_result"
    }
   ],
   "source": [
    "# compute simple average\n",
    "amount = round(train['amount'].mean(), 2)\n",
    "amount"
   ]
  },
  {
   "cell_type": "code",
   "execution_count": 29,
   "id": "6dbd6c06",
   "metadata": {},
   "outputs": [],
   "source": [
    "def make_predictions(amount=None):\n",
    "    yhat_df = pd.DataFrame({'amount': [amount]},\n",
    "                          index=validate.index)\n",
    "    return yhat_df"
   ]
  },
  {
   "cell_type": "code",
   "execution_count": 31,
   "id": "61e2d18c",
   "metadata": {},
   "outputs": [],
   "source": [
    "yhat_df = make_predictions(amount)"
   ]
  },
  {
   "cell_type": "code",
   "execution_count": 32,
   "id": "dbf5fcec",
   "metadata": {},
   "outputs": [
    {
     "data": {
      "text/html": [
       "<div>\n",
       "<style scoped>\n",
       "    .dataframe tbody tr th:only-of-type {\n",
       "        vertical-align: middle;\n",
       "    }\n",
       "\n",
       "    .dataframe tbody tr th {\n",
       "        vertical-align: top;\n",
       "    }\n",
       "\n",
       "    .dataframe thead th {\n",
       "        text-align: right;\n",
       "    }\n",
       "</style>\n",
       "<table border=\"1\" class=\"dataframe\">\n",
       "  <thead>\n",
       "    <tr style=\"text-align: right;\">\n",
       "      <th></th>\n",
       "      <th>amount</th>\n",
       "    </tr>\n",
       "    <tr>\n",
       "      <th>month_invoiced</th>\n",
       "      <th></th>\n",
       "    </tr>\n",
       "  </thead>\n",
       "  <tbody>\n",
       "    <tr>\n",
       "      <th>2016-01-31</th>\n",
       "      <td>45568.54</td>\n",
       "    </tr>\n",
       "    <tr>\n",
       "      <th>2016-02-29</th>\n",
       "      <td>45568.54</td>\n",
       "    </tr>\n",
       "    <tr>\n",
       "      <th>2016-03-31</th>\n",
       "      <td>45568.54</td>\n",
       "    </tr>\n",
       "    <tr>\n",
       "      <th>2016-04-30</th>\n",
       "      <td>45568.54</td>\n",
       "    </tr>\n",
       "    <tr>\n",
       "      <th>2016-05-31</th>\n",
       "      <td>45568.54</td>\n",
       "    </tr>\n",
       "  </tbody>\n",
       "</table>\n",
       "</div>"
      ],
      "text/plain": [
       "                  amount\n",
       "month_invoiced          \n",
       "2016-01-31      45568.54\n",
       "2016-02-29      45568.54\n",
       "2016-03-31      45568.54\n",
       "2016-04-30      45568.54\n",
       "2016-05-31      45568.54"
      ]
     },
     "execution_count": 32,
     "metadata": {},
     "output_type": "execute_result"
    }
   ],
   "source": [
    "yhat_df.head()"
   ]
  },
  {
   "cell_type": "code",
   "execution_count": 33,
   "id": "2cb2ad93",
   "metadata": {},
   "outputs": [
    {
     "name": "stdout",
     "output_type": "stream",
     "text": [
      "amount -- RMSE: 7181\n"
     ]
    },
    {
     "data": {
      "image/png": "[encoded data removed]",
      "text/plain": [
       "<Figure size 1200x400 with 1 Axes>"
      ]
     },
     "metadata": {},
     "output_type": "display_data"
    }
   ],
   "source": [
    "for col in train.columns:\n",
    "    plot_and_eval(col)"
   ]
  },
  {
   "cell_type": "markdown",
   "id": "79a4b516",
   "metadata": {},
   "source": [
    "# eval"
   ]
  },
  {
   "cell_type": "code",
   "execution_count": 34,
   "id": "694df685",
   "metadata": {},
   "outputs": [
    {
     "data": {
      "text/html": [
       "<div>\n",
       "<style scoped>\n",
       "    .dataframe tbody tr th:only-of-type {\n",
       "        vertical-align: middle;\n",
       "    }\n",
       "\n",
       "    .dataframe tbody tr th {\n",
       "        vertical-align: top;\n",
       "    }\n",
       "\n",
       "    .dataframe thead th {\n",
       "        text-align: right;\n",
       "    }\n",
       "</style>\n",
       "<table border=\"1\" class=\"dataframe\">\n",
       "  <thead>\n",
       "    <tr style=\"text-align: right;\">\n",
       "      <th></th>\n",
       "      <th>model_type</th>\n",
       "      <th>target_var</th>\n",
       "      <th>rmse</th>\n",
       "    </tr>\n",
       "  </thead>\n",
       "  <tbody>\n",
       "    <tr>\n",
       "      <th>0</th>\n",
       "      <td>simple_average</td>\n",
       "      <td>amount</td>\n",
       "      <td>7181.0</td>\n",
       "    </tr>\n",
       "  </tbody>\n",
       "</table>\n",
       "</div>"
      ],
      "text/plain": [
       "       model_type target_var    rmse\n",
       "0  simple_average     amount  7181.0"
      ]
     },
     "execution_count": 34,
     "metadata": {},
     "output_type": "execute_result"
    }
   ],
   "source": [
    "for col in train.columns:\n",
    "    eval_df = append_eval_df(model_type='simple_average', \n",
    "                            target_var = col)\n",
    "eval_df"
   ]
  },
  {
   "cell_type": "markdown",
   "id": "5eb371ab",
   "metadata": {},
   "source": [
    "# Moving Average"
   ]
  },
  {
   "cell_type": "code",
   "execution_count": 35,
   "id": "9d24666c",
   "metadata": {},
   "outputs": [
    {
     "data": {
      "text/plain": [
       "51403.333333333336"
      ]
     },
     "execution_count": 35,
     "metadata": {},
     "output_type": "execute_result"
    }
   ],
   "source": [
    "period=3\n",
    "train['amount'].rolling(period).mean()[-1]"
   ]
  },
  {
   "cell_type": "code",
   "execution_count": 36,
   "id": "34f4f773",
   "metadata": {},
   "outputs": [
    {
     "name": "stdout",
     "output_type": "stream",
     "text": [
      "51403.33\n"
     ]
    }
   ],
   "source": [
    "amount = round(train['amount'].rolling(period).mean()[-1], 2)\n"
   ]
  },
  {
   "cell_type": "code",
   "execution_count": 37,
   "id": "0579248c",
   "metadata": {},
   "outputs": [
    {
     "data": {
      "text/html": [
       "<div>\n",
       "<style scoped>\n",
       "    .dataframe tbody tr th:only-of-type {\n",
       "        vertical-align: middle;\n",
       "    }\n",
       "\n",
       "    .dataframe tbody tr th {\n",
       "        vertical-align: top;\n",
       "    }\n",
       "\n",
       "    .dataframe thead th {\n",
       "        text-align: right;\n",
       "    }\n",
       "</style>\n",
       "<table border=\"1\" class=\"dataframe\">\n",
       "  <thead>\n",
       "    <tr style=\"text-align: right;\">\n",
       "      <th></th>\n",
       "      <th>amount</th>\n",
       "    </tr>\n",
       "    <tr>\n",
       "      <th>month_invoiced</th>\n",
       "      <th></th>\n",
       "    </tr>\n",
       "  </thead>\n",
       "  <tbody>\n",
       "    <tr>\n",
       "      <th>2016-01-31</th>\n",
       "      <td>51403.33</td>\n",
       "    </tr>\n",
       "    <tr>\n",
       "      <th>2016-02-29</th>\n",
       "      <td>51403.33</td>\n",
       "    </tr>\n",
       "    <tr>\n",
       "      <th>2016-03-31</th>\n",
       "      <td>51403.33</td>\n",
       "    </tr>\n",
       "    <tr>\n",
       "      <th>2016-04-30</th>\n",
       "      <td>51403.33</td>\n",
       "    </tr>\n",
       "    <tr>\n",
       "      <th>2016-05-31</th>\n",
       "      <td>51403.33</td>\n",
       "    </tr>\n",
       "  </tbody>\n",
       "</table>\n",
       "</div>"
      ],
      "text/plain": [
       "                  amount\n",
       "month_invoiced          \n",
       "2016-01-31      51403.33\n",
       "2016-02-29      51403.33\n",
       "2016-03-31      51403.33\n",
       "2016-04-30      51403.33\n",
       "2016-05-31      51403.33"
      ]
     },
     "execution_count": 37,
     "metadata": {},
     "output_type": "execute_result"
    }
   ],
   "source": [
    "yhat_df = make_predictions(amount)\n",
    "yhat_df.head()"
   ]
  },
  {
   "cell_type": "code",
   "execution_count": 38,
   "id": "5798d071",
   "metadata": {},
   "outputs": [
    {
     "name": "stdout",
     "output_type": "stream",
     "text": [
      "amount -- RMSE: 1436\n"
     ]
    },
    {
     "data": {
      "image/png": "[encoded data removed]",
      "text/plain": [
       "<Figure size 1200x400 with 1 Axes>"
      ]
     },
     "metadata": {},
     "output_type": "display_data"
    }
   ],
   "source": [
    "for col in train.columns:\n",
    "    plot_and_eval(col)"
   ]
  },
  {
   "cell_type": "code",
   "execution_count": 39,
   "id": "9b485f91",
   "metadata": {},
   "outputs": [
    {
     "data": {
      "text/html": [
       "<div>\n",
       "<style scoped>\n",
       "    .dataframe tbody tr th:only-of-type {\n",
       "        vertical-align: middle;\n",
       "    }\n",
       "\n",
       "    .dataframe tbody tr th {\n",
       "        vertical-align: top;\n",
       "    }\n",
       "\n",
       "    .dataframe thead th {\n",
       "        text-align: right;\n",
       "    }\n",
       "</style>\n",
       "<table border=\"1\" class=\"dataframe\">\n",
       "  <thead>\n",
       "    <tr style=\"text-align: right;\">\n",
       "      <th></th>\n",
       "      <th>model_type</th>\n",
       "      <th>target_var</th>\n",
       "      <th>rmse</th>\n",
       "    </tr>\n",
       "  </thead>\n",
       "  <tbody>\n",
       "    <tr>\n",
       "      <th>0</th>\n",
       "      <td>simple_average</td>\n",
       "      <td>amount</td>\n",
       "      <td>7181.0</td>\n",
       "    </tr>\n",
       "    <tr>\n",
       "      <th>1</th>\n",
       "      <td>3_month_moving_avg</td>\n",
       "      <td>amount</td>\n",
       "      <td>1436.0</td>\n",
       "    </tr>\n",
       "  </tbody>\n",
       "</table>\n",
       "</div>"
      ],
      "text/plain": [
       "           model_type target_var    rmse\n",
       "0      simple_average     amount  7181.0\n",
       "1  3_month_moving_avg     amount  1436.0"
      ]
     },
     "execution_count": 39,
     "metadata": {},
     "output_type": "execute_result"
    }
   ],
   "source": [
    "for col in train.columns:\n",
    "    eval_df = append_eval_df(model_type = '3_month_moving_avg', \n",
    "                            target_var = col)\n",
    "\n",
    "eval_df"
   ]
  },
  {
   "cell_type": "markdown",
   "id": "dd77d61b",
   "metadata": {},
   "source": [
    "# Holt's Linear Trend Model"
   ]
  },
  {
   "cell_type": "code",
   "execution_count": 40,
   "id": "8413f400",
   "metadata": {},
   "outputs": [
    {
     "name": "stdout",
     "output_type": "stream",
     "text": [
      "amount \n",
      "\n"
     ]
    },
    {
     "data": {
      "image/png": "[encoded data removed]",
      "text/plain": [
       "<Figure size 640x480 with 4 Axes>"
      ]
     },
     "metadata": {},
     "output_type": "display_data"
    }
   ],
   "source": [
    "print(col, '\\n')\n",
    "sm.tsa.seasonal_decompose(train[col].resample('M').mean()).plot()\n",
    "plt.show()"
   ]
  },
  {
   "cell_type": "code",
   "execution_count": 41,
   "id": "f082352b",
   "metadata": {},
   "outputs": [],
   "source": [
    "col = 'amount' \n",
    "# create our Holt's Object\n",
    "model = Holt(train[col], exponential=False, damped=True)"
   ]
  },
  {
   "cell_type": "code",
   "execution_count": 42,
   "id": "4ecec54a",
   "metadata": {},
   "outputs": [],
   "source": [
    "# fit the holt's object\n",
    "model = model.fit(optimized=True)"
   ]
  },
  {
   "cell_type": "code",
   "execution_count": 43,
   "id": "9d2764c4",
   "metadata": {},
   "outputs": [],
   "source": [
    "yhat_items = model.predict(start = validate.index[0],\n",
    "                              end = validate.index[-1])"
   ]
  },
  {
   "cell_type": "code",
   "execution_count": 44,
   "id": "60169500",
   "metadata": {},
   "outputs": [],
   "source": [
    "yhat_df[col] = round(yhat_items, 2)"
   ]
  },
  {
   "cell_type": "code",
   "execution_count": 45,
   "id": "9b74280e",
   "metadata": {},
   "outputs": [
    {
     "name": "stdout",
     "output_type": "stream",
     "text": [
      "amount -- RMSE: 554\n"
     ]
    },
    {
     "data": {
      "image/png": "[encoded data removed]",
      "text/plain": [
       "<Figure size 1200x400 with 1 Axes>"
      ]
     },
     "metadata": {},
     "output_type": "display_data"
    }
   ],
   "source": [
    "plot_and_eval(target_var = col)"
   ]
  },
  {
   "cell_type": "code",
   "execution_count": 46,
   "id": "cdb44bd9",
   "metadata": {},
   "outputs": [],
   "source": [
    "eval_df = append_eval_df(model_type = 'holts_optimized', \n",
    "                            target_var = col)"
   ]
  },
  {
   "cell_type": "code",
   "execution_count": 47,
   "id": "cef290ec",
   "metadata": {},
   "outputs": [
    {
     "data": {
      "text/html": [
       "<div>\n",
       "<style scoped>\n",
       "    .dataframe tbody tr th:only-of-type {\n",
       "        vertical-align: middle;\n",
       "    }\n",
       "\n",
       "    .dataframe tbody tr th {\n",
       "        vertical-align: top;\n",
       "    }\n",
       "\n",
       "    .dataframe thead th {\n",
       "        text-align: right;\n",
       "    }\n",
       "</style>\n",
       "<table border=\"1\" class=\"dataframe\">\n",
       "  <thead>\n",
       "    <tr style=\"text-align: right;\">\n",
       "      <th></th>\n",
       "      <th>model_type</th>\n",
       "      <th>target_var</th>\n",
       "      <th>rmse</th>\n",
       "    </tr>\n",
       "  </thead>\n",
       "  <tbody>\n",
       "    <tr>\n",
       "      <th>0</th>\n",
       "      <td>simple_average</td>\n",
       "      <td>amount</td>\n",
       "      <td>7181.0</td>\n",
       "    </tr>\n",
       "    <tr>\n",
       "      <th>1</th>\n",
       "      <td>3_month_moving_avg</td>\n",
       "      <td>amount</td>\n",
       "      <td>1436.0</td>\n",
       "    </tr>\n",
       "    <tr>\n",
       "      <th>2</th>\n",
       "      <td>holts_optimized</td>\n",
       "      <td>amount</td>\n",
       "      <td>554.0</td>\n",
       "    </tr>\n",
       "  </tbody>\n",
       "</table>\n",
       "</div>"
      ],
      "text/plain": [
       "           model_type target_var    rmse\n",
       "0      simple_average     amount  7181.0\n",
       "1  3_month_moving_avg     amount  1436.0\n",
       "2     holts_optimized     amount   554.0"
      ]
     },
     "execution_count": 47,
     "metadata": {},
     "output_type": "execute_result"
    }
   ],
   "source": [
    "eval_df"
   ]
  },
  {
   "cell_type": "code",
   "execution_count": 48,
   "id": "91e5e08e",
   "metadata": {},
   "outputs": [
    {
     "data": {
      "text/html": [
       "<div>\n",
       "<style scoped>\n",
       "    .dataframe tbody tr th:only-of-type {\n",
       "        vertical-align: middle;\n",
       "    }\n",
       "\n",
       "    .dataframe tbody tr th {\n",
       "        vertical-align: top;\n",
       "    }\n",
       "\n",
       "    .dataframe thead th {\n",
       "        text-align: right;\n",
       "    }\n",
       "</style>\n",
       "<table border=\"1\" class=\"dataframe\">\n",
       "  <thead>\n",
       "    <tr style=\"text-align: right;\">\n",
       "      <th></th>\n",
       "      <th>model_type</th>\n",
       "      <th>target_var</th>\n",
       "      <th>rmse</th>\n",
       "    </tr>\n",
       "  </thead>\n",
       "  <tbody>\n",
       "    <tr>\n",
       "      <th>2</th>\n",
       "      <td>holts_optimized</td>\n",
       "      <td>amount</td>\n",
       "      <td>554.0</td>\n",
       "    </tr>\n",
       "    <tr>\n",
       "      <th>1</th>\n",
       "      <td>3_month_moving_avg</td>\n",
       "      <td>amount</td>\n",
       "      <td>1436.0</td>\n",
       "    </tr>\n",
       "    <tr>\n",
       "      <th>0</th>\n",
       "      <td>simple_average</td>\n",
       "      <td>amount</td>\n",
       "      <td>7181.0</td>\n",
       "    </tr>\n",
       "  </tbody>\n",
       "</table>\n",
       "</div>"
      ],
      "text/plain": [
       "           model_type target_var    rmse\n",
       "2     holts_optimized     amount   554.0\n",
       "1  3_month_moving_avg     amount  1436.0\n",
       "0      simple_average     amount  7181.0"
      ]
     },
     "execution_count": 48,
     "metadata": {},
     "output_type": "execute_result"
    }
   ],
   "source": [
    "eval_df.sort_values(by='rmse')"
   ]
  },
  {
   "cell_type": "markdown",
   "id": "59a2e788",
   "metadata": {},
   "source": [
    "# Based on previous year/month/etc., this is up to you."
   ]
  },
  {
   "cell_type": "code",
   "execution_count": null,
   "id": "92a3d48d",
   "metadata": {},
   "outputs": [],
   "source": []
  }
 ],
 "metadata": {
  "kernelspec": {
   "display_name": "Python 3 (ipykernel)",
   "language": "python",
   "name": "python3"
  },
  "language_info": {
   "codemirror_mode": {
    "name": "ipython",
    "version": 3
   },
   "file_extension": ".py",
   "mimetype": "text/x-python",
   "name": "python",
   "nbconvert_exporter": "python",
   "pygments_lexer": "ipython3",
   "version": "3.9.13"
  },
  "toc": {
   "base_numbering": 1,
   "nav_menu": {},
   "number_sections": true,
   "sideBar": true,
   "skip_h1_title": false,
   "title_cell": "Table of Contents",
   "title_sidebar": "Contents",
   "toc_cell": false,
   "toc_position": {},
   "toc_section_display": true,
   "toc_window_display": false
  }
 },
 "nbformat": 4,
 "nbformat_minor": 5
}
