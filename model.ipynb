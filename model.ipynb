{
 "cells": [
  {
   "cell_type": "code",
   "execution_count": 4,
   "id": "6868eea5",
   "metadata": {},
   "outputs": [],
   "source": [
    "import numpy as np\n",
    "import pandas as pd\n",
    "import matplotlib.pyplot as plt\n",
    "import seaborn as sns\n",
    "\n",
    "from sklearn.model_selection import TimeSeriesSplit\n",
    "import statsmodels.api as sm\n",
    "\n",
    "import prepare as pr "
   ]
  },
  {
   "cell_type": "code",
   "execution_count": 5,
   "id": "97526e63",
   "metadata": {},
   "outputs": [],
   "source": [
    "dfs = pd.read_csv('saas.csv')"
   ]
  },
  {
   "cell_type": "code",
   "execution_count": 6,
   "id": "d4e10369",
   "metadata": {},
   "outputs": [],
   "source": [
    "# dfs = df.sample(10000)"
   ]
  },
  {
   "cell_type": "markdown",
   "id": "6eccf84c",
   "metadata": {},
   "source": [
    "# clean"
   ]
  },
  {
   "cell_type": "code",
   "execution_count": 7,
   "id": "7eb2e85e",
   "metadata": {},
   "outputs": [],
   "source": [
    "dfs.Month_Invoiced = pd.to_datetime(dfs.Month_Invoiced)"
   ]
  },
  {
   "cell_type": "code",
   "execution_count": 8,
   "id": "13f42547",
   "metadata": {},
   "outputs": [],
   "source": [
    "dfs.rename(columns={\"Month_Invoiced\":\"date\"},inplace= True)"
   ]
  },
  {
   "cell_type": "code",
   "execution_count": 9,
   "id": "b6e0c98b",
   "metadata": {},
   "outputs": [
    {
     "data": {
      "text/html": [
       "<div>\n",
       "<style scoped>\n",
       "    .dataframe tbody tr th:only-of-type {\n",
       "        vertical-align: middle;\n",
       "    }\n",
       "\n",
       "    .dataframe tbody tr th {\n",
       "        vertical-align: top;\n",
       "    }\n",
       "\n",
       "    .dataframe thead th {\n",
       "        text-align: right;\n",
       "    }\n",
       "</style>\n",
       "<table border=\"1\" class=\"dataframe\">\n",
       "  <thead>\n",
       "    <tr style=\"text-align: right;\">\n",
       "      <th></th>\n",
       "      <th>date</th>\n",
       "      <th>Customer_Id</th>\n",
       "      <th>Invoice_Id</th>\n",
       "      <th>Subscription_Type</th>\n",
       "      <th>Amount</th>\n",
       "    </tr>\n",
       "  </thead>\n",
       "  <tbody>\n",
       "    <tr>\n",
       "      <th>0</th>\n",
       "      <td>2014-01-31</td>\n",
       "      <td>1000000</td>\n",
       "      <td>5000000</td>\n",
       "      <td>0.0</td>\n",
       "      <td>0.0</td>\n",
       "    </tr>\n",
       "  </tbody>\n",
       "</table>\n",
       "</div>"
      ],
      "text/plain": [
       "        date  Customer_Id  Invoice_Id  Subscription_Type  Amount\n",
       "0 2014-01-31      1000000     5000000                0.0     0.0"
      ]
     },
     "execution_count": 9,
     "metadata": {},
     "output_type": "execute_result"
    }
   ],
   "source": [
    "dfs.head(1)"
   ]
  },
  {
   "cell_type": "code",
   "execution_count": 20,
   "id": "c3da8755",
   "metadata": {},
   "outputs": [
    {
     "data": {
      "text/plain": [
       "(790458, 5)"
      ]
     },
     "execution_count": 20,
     "metadata": {},
     "output_type": "execute_result"
    }
   ],
   "source": [
    "dfs.shape"
   ]
  },
  {
   "cell_type": "code",
   "execution_count": 19,
   "id": "3023c038",
   "metadata": {},
   "outputs": [
    {
     "ename": "NameError",
     "evalue": "name 'Invoice_Id' is not defined",
     "output_type": "error",
     "traceback": [
      "\u001b[0;31m---------------------------------------------------------------------------\u001b[0m",
      "\u001b[0;31mNameError\u001b[0m                                 Traceback (most recent call last)",
      "\u001b[0;32m/var/folders/d0/5dr5q0n145vcn3_m9dxy1xq80000gn/T/ipykernel_8786/3246108215.py\u001b[0m in \u001b[0;36m<module>\u001b[0;34m\u001b[0m\n\u001b[0;32m----> 1\u001b[0;31m \u001b[0mdfs\u001b[0m\u001b[0;34m.\u001b[0m\u001b[0mnunique\u001b[0m\u001b[0;34m(\u001b[0m\u001b[0mInvoice_Id\u001b[0m\u001b[0;34m)\u001b[0m\u001b[0;34m\u001b[0m\u001b[0;34m\u001b[0m\u001b[0m\n\u001b[0m",
      "\u001b[0;31mNameError\u001b[0m: name 'Invoice_Id' is not defined"
     ]
    }
   ],
   "source": [
    "# dfs.nunique(Invoice_Id)"
   ]
  },
  {
   "cell_type": "code",
   "execution_count": 21,
   "id": "642d3325",
   "metadata": {
    "scrolled": true
   },
   "outputs": [
    {
     "data": {
      "text/plain": [
       "0.0    496410\n",
       "1.0    178212\n",
       "2.0     70706\n",
       "3.0     26474\n",
       "4.0     18656\n",
       "Name: Subscription_Type, dtype: int64"
      ]
     },
     "execution_count": 21,
     "metadata": {},
     "output_type": "execute_result"
    }
   ],
   "source": [
    "dfs.Subscription_Type.value_counts()"
   ]
  },
  {
   "cell_type": "code",
   "execution_count": 22,
   "id": "78b75e26",
   "metadata": {},
   "outputs": [
    {
     "data": {
      "text/plain": [
       "0.0     496410\n",
       "5.0     178212\n",
       "10.0     70706\n",
       "15.0     26474\n",
       "20.0     18656\n",
       "Name: Amount, dtype: int64"
      ]
     },
     "execution_count": 22,
     "metadata": {},
     "output_type": "execute_result"
    }
   ],
   "source": [
    "dfs.Amount.value_counts() "
   ]
  },
  {
   "cell_type": "code",
   "execution_count": 23,
   "id": "c28121e7",
   "metadata": {},
   "outputs": [],
   "source": [
    "dfs = dfs.set_index('date')"
   ]
  },
  {
   "cell_type": "code",
   "execution_count": 24,
   "id": "280b1373",
   "metadata": {},
   "outputs": [
    {
     "name": "stdout",
     "output_type": "stream",
     "text": [
      "Date Range: 2014-01-31 00:00:00 to 2017-12-31 00:00:00\n",
      "Shape: (790458, 4)\n"
     ]
    }
   ],
   "source": [
    "print('Date Range:', dfs.index.min(), 'to', dfs.index.max())\n",
    "print('Shape:', dfs.shape)\n",
    "\n"
   ]
  },
  {
   "cell_type": "code",
   "execution_count": 25,
   "id": "76e1b6c4",
   "metadata": {},
   "outputs": [],
   "source": [
    "dfs = dfs.fillna(0)"
   ]
  },
  {
   "cell_type": "markdown",
   "id": "2536cb56",
   "metadata": {},
   "source": [
    "# end clean"
   ]
  },
  {
   "cell_type": "markdown",
   "id": "acf65c58",
   "metadata": {},
   "source": [
    "# Split data (train/validate/test) and resample by any period except daily. Aggregate using the sum."
   ]
  },
  {
   "cell_type": "code",
   "execution_count": 26,
   "id": "d409400f",
   "metadata": {},
   "outputs": [],
   "source": [
    "train_size = int(len(dfs) * .5)\n",
    "validate_size = int(len(dfs) * .3)\n",
    "test_size = int(len(dfs) - train_size - validate_size)\n",
    "validate_end_index = train_size + validate_size\n",
    "\n",
    "# split into train, validation, test\n",
    "train = dfs[: train_size]\n",
    "validate = dfs[train_size : validate_end_index]\n",
    "test = dfs[validate_end_index : ]"
   ]
  },
  {
   "cell_type": "markdown",
   "id": "9dad7544",
   "metadata": {},
   "source": [
    "# visualize the split"
   ]
  },
  {
   "cell_type": "code",
   "execution_count": 27,
   "id": "92314e4c",
   "metadata": {},
   "outputs": [
    {
     "data": {
      "text/plain": [
       "((395229, 4), (237137, 4), (158092, 4))"
      ]
     },
     "execution_count": 27,
     "metadata": {},
     "output_type": "execute_result"
    }
   ],
   "source": [
    "train.shape,validate.shape,test.shape"
   ]
  },
  {
   "cell_type": "code",
   "execution_count": 28,
   "id": "54964360",
   "metadata": {},
   "outputs": [
    {
     "data": {
      "text/plain": [
       "[<matplotlib.lines.Line2D at 0x7fcd46cd27c0>]"
      ]
     },
     "execution_count": 28,
     "metadata": {},
     "output_type": "execute_result"
    },
    {
     "data": {
      "image/png": "[encoded data removed]",
      "text/plain": [
       "<Figure size 640x480 with 1 Axes>"
      ]
     },
     "metadata": {},
     "output_type": "display_data"
    }
   ],
   "source": [
    "\n",
    "plt.plot(train.index, train.Amount)\n",
    "plt.plot(validate.index, validate.Amount)\n",
    "plt.plot(test.index, test.Amount)"
   ]
  },
  {
   "cell_type": "code",
   "execution_count": 29,
   "id": "842a5e57",
   "metadata": {},
   "outputs": [
    {
     "data": {
      "text/plain": [
       "[<matplotlib.lines.Line2D at 0x7fcd46de3dc0>]"
      ]
     },
     "execution_count": 29,
     "metadata": {},
     "output_type": "execute_result"
    },
    {
     "data": {
      "image/png": "[encoded data removed]",
      "text/plain": [
       "<Figure size 640x480 with 1 Axes>"
      ]
     },
     "metadata": {},
     "output_type": "display_data"
    }
   ],
   "source": [
    "plt.plot(train.index, train.Subscription_Type)\n",
    "plt.plot(validate.index, validate.Subscription_Type)\n",
    "plt.plot(test.index, test.Subscription_Type)"
   ]
  },
  {
   "cell_type": "markdown",
   "id": "3fb50970",
   "metadata": {},
   "source": [
    "# resample"
   ]
  },
  {
   "cell_type": "code",
   "execution_count": 30,
   "id": "e7f3e5c7",
   "metadata": {},
   "outputs": [
    {
     "data": {
      "text/plain": [
       "date\n",
       "2014-01-31    1.7925\n",
       "2014-02-01       NaN\n",
       "2014-02-02       NaN\n",
       "2014-02-03       NaN\n",
       "2014-02-04       NaN\n",
       "Freq: D, Name: Amount, dtype: float64"
      ]
     },
     "execution_count": 30,
     "metadata": {},
     "output_type": "execute_result"
    }
   ],
   "source": [
    "y = train.resample('D').Amount.mean()\n",
    "y.head()"
   ]
  },
  {
   "cell_type": "code",
   "execution_count": 31,
   "id": "05382d7c",
   "metadata": {},
   "outputs": [
    {
     "data": {
      "text/plain": [
       "<matplotlib.legend.Legend at 0x7fcd46d53af0>"
      ]
     },
     "execution_count": 31,
     "metadata": {},
     "output_type": "execute_result"
    },
    {
     "data": {
      "image/png": "[encoded data removed]",
      "text/plain": [
       "<Figure size 640x480 with 1 Axes>"
      ]
     },
     "metadata": {},
     "output_type": "display_data"
    }
   ],
   "source": [
    "# Plot the M average & the 7-day moving average. Compare the 2 plots.\n",
    "y.resample('M').mean().plot(label='Resampled Weekly', alpha=.6, color = 'blue')\n",
    "y.resample('M').mean().rolling(3).mean().plot(label='Resampled Weekly', alpha=.6, color = 'blue')\n",
    "\n",
    "plt.legend()"
   ]
  },
  {
   "cell_type": "markdown",
   "id": "4a02c586",
   "metadata": {},
   "source": [
    "# functions that might help"
   ]
  },
  {
   "cell_type": "code",
   "execution_count": 32,
   "id": "39dedc1e",
   "metadata": {},
   "outputs": [],
   "source": [
    "# evaluation function to compute rmse\n",
    "def evaluate(target_var):\n",
    "    rmse = round(sqrt(mean_squared_error(validate[target_var], yhat_df[target_var])), 0)\n",
    "    return rmse\n"
   ]
  },
  {
   "cell_type": "code",
   "execution_count": 33,
   "id": "a0378092",
   "metadata": {},
   "outputs": [],
   "source": [
    "# plot and evaluate \n",
    "def plot_and_eval(target_var):\n",
    "    plt.figure(figsize = (12,4))\n",
    "    plt.plot(train[target_var], label = 'Train', linewidth = 1)\n",
    "    plt.plot(validate[target_var], label = 'Validate', linewidth = 1)\n",
    "    plt.plot(yhat_df[target_var])\n",
    "    plt.title(target_var)\n",
    "    rmse = evaluate(target_var)\n",
    "    print(target_var, '-- RMSE: {:.0f}'.format(rmse))\n",
    "    plt.show()"
   ]
  },
  {
   "cell_type": "code",
   "execution_count": 34,
   "id": "6e415e59",
   "metadata": {},
   "outputs": [],
   "source": [
    "# Create the empty dataframe\n",
    "eval_df = pd.DataFrame(columns=['model_type', 'target_var', 'rmse'])\n",
    "\n",
    "# function to store rmse for comparison purposes\n",
    "def append_eval_df(model_type, target_var):\n",
    "    rmse = evaluate(target_var)\n",
    "    d = {'model_type': [model_type], 'target_var': [target_var], 'rmse': [rmse]}\n",
    "    d = pd.DataFrame(d)\n",
    "    return eval_df.append(d, ignore_index = True)"
   ]
  },
  {
   "cell_type": "markdown",
   "id": "2c749ebf",
   "metadata": {},
   "source": [
    "# make predictions"
   ]
  },
  {
   "cell_type": "code",
   "execution_count": 35,
   "id": "84c2baf0",
   "metadata": {},
   "outputs": [],
   "source": [
    "subt = train['Subscription_Type'][-1:][0]"
   ]
  },
  {
   "cell_type": "code",
   "execution_count": 36,
   "id": "e7709e2b",
   "metadata": {},
   "outputs": [],
   "source": [
    "amnt = train['Amount'][-1:][0]"
   ]
  },
  {
   "cell_type": "code",
   "execution_count": 37,
   "id": "e25bed0f",
   "metadata": {},
   "outputs": [],
   "source": [
    "yhat_df = pd.DataFrame({'Subscription_Type': [subt], 'amount': [amnt]}, \n",
    "                       index = validate.index)\n"
   ]
  },
  {
   "cell_type": "code",
   "execution_count": 38,
   "id": "976be23b",
   "metadata": {
    "scrolled": true
   },
   "outputs": [
    {
     "data": {
      "text/html": [
       "<div>\n",
       "<style scoped>\n",
       "    .dataframe tbody tr th:only-of-type {\n",
       "        vertical-align: middle;\n",
       "    }\n",
       "\n",
       "    .dataframe tbody tr th {\n",
       "        vertical-align: top;\n",
       "    }\n",
       "\n",
       "    .dataframe thead th {\n",
       "        text-align: right;\n",
       "    }\n",
       "</style>\n",
       "<table border=\"1\" class=\"dataframe\">\n",
       "  <thead>\n",
       "    <tr style=\"text-align: right;\">\n",
       "      <th></th>\n",
       "      <th>Subscription_Type</th>\n",
       "      <th>amount</th>\n",
       "    </tr>\n",
       "    <tr>\n",
       "      <th>date</th>\n",
       "      <th></th>\n",
       "      <th></th>\n",
       "    </tr>\n",
       "  </thead>\n",
       "  <tbody>\n",
       "    <tr>\n",
       "      <th>2015-10-31</th>\n",
       "      <td>0.0</td>\n",
       "      <td>0.0</td>\n",
       "    </tr>\n",
       "    <tr>\n",
       "      <th>2015-10-31</th>\n",
       "      <td>0.0</td>\n",
       "      <td>0.0</td>\n",
       "    </tr>\n",
       "    <tr>\n",
       "      <th>2015-10-31</th>\n",
       "      <td>0.0</td>\n",
       "      <td>0.0</td>\n",
       "    </tr>\n",
       "    <tr>\n",
       "      <th>2015-10-31</th>\n",
       "      <td>0.0</td>\n",
       "      <td>0.0</td>\n",
       "    </tr>\n",
       "    <tr>\n",
       "      <th>2015-10-31</th>\n",
       "      <td>0.0</td>\n",
       "      <td>0.0</td>\n",
       "    </tr>\n",
       "  </tbody>\n",
       "</table>\n",
       "</div>"
      ],
      "text/plain": [
       "            Subscription_Type  amount\n",
       "date                                 \n",
       "2015-10-31                0.0     0.0\n",
       "2015-10-31                0.0     0.0\n",
       "2015-10-31                0.0     0.0\n",
       "2015-10-31                0.0     0.0\n",
       "2015-10-31                0.0     0.0"
      ]
     },
     "execution_count": 38,
     "metadata": {},
     "output_type": "execute_result"
    }
   ],
   "source": [
    "yhat_df.head()"
   ]
  },
  {
   "cell_type": "code",
   "execution_count": 39,
   "id": "6e5232b1",
   "metadata": {},
   "outputs": [
    {
     "ename": "NameError",
     "evalue": "name 'col' is not defined",
     "output_type": "error",
     "traceback": [
      "\u001b[0;31m---------------------------------------------------------------------------\u001b[0m",
      "\u001b[0;31mNameError\u001b[0m                                 Traceback (most recent call last)",
      "\u001b[0;32m/var/folders/d0/5dr5q0n145vcn3_m9dxy1xq80000gn/T/ipykernel_8786/3909480804.py\u001b[0m in \u001b[0;36m<module>\u001b[0;34m\u001b[0m\n\u001b[0;32m----> 1\u001b[0;31m \u001b[0mplot_and_eval\u001b[0m\u001b[0;34m(\u001b[0m\u001b[0mcol\u001b[0m\u001b[0;34m)\u001b[0m\u001b[0;34m\u001b[0m\u001b[0;34m\u001b[0m\u001b[0m\n\u001b[0m",
      "\u001b[0;31mNameError\u001b[0m: name 'col' is not defined"
     ]
    }
   ],
   "source": [
    " plot_and_eval(col)"
   ]
  },
  {
   "cell_type": "markdown",
   "id": "4be3beba",
   "metadata": {},
   "source": [
    "# Forecast, plot and evaluate using each of the 4 parametric based methods we discussed:"
   ]
  },
  {
   "cell_type": "code",
   "execution_count": null,
   "id": "5cea9671",
   "metadata": {},
   "outputs": [],
   "source": []
  },
  {
   "cell_type": "markdown",
   "id": "ab28fe34",
   "metadata": {},
   "source": [
    "# Simple Average"
   ]
  },
  {
   "cell_type": "code",
   "execution_count": null,
   "id": "f0571365",
   "metadata": {},
   "outputs": [],
   "source": []
  },
  {
   "cell_type": "markdown",
   "id": "5eb371ab",
   "metadata": {},
   "source": [
    "# Moving Average"
   ]
  },
  {
   "cell_type": "code",
   "execution_count": null,
   "id": "9d24666c",
   "metadata": {},
   "outputs": [],
   "source": []
  },
  {
   "cell_type": "markdown",
   "id": "dd77d61b",
   "metadata": {},
   "source": [
    "# Holt's Linear Trend Model"
   ]
  },
  {
   "cell_type": "code",
   "execution_count": null,
   "id": "8413f400",
   "metadata": {},
   "outputs": [],
   "source": []
  },
  {
   "cell_type": "markdown",
   "id": "59a2e788",
   "metadata": {},
   "source": [
    "# Based on previous year/month/etc., this is up to you."
   ]
  },
  {
   "cell_type": "code",
   "execution_count": null,
   "id": "92a3d48d",
   "metadata": {},
   "outputs": [],
   "source": []
  }
 ],
 "metadata": {
  "kernelspec": {
   "display_name": "Python 3 (ipykernel)",
   "language": "python",
   "name": "python3"
  },
  "language_info": {
   "codemirror_mode": {
    "name": "ipython",
    "version": 3
   },
   "file_extension": ".py",
   "mimetype": "text/x-python",
   "name": "python",
   "nbconvert_exporter": "python",
   "pygments_lexer": "ipython3",
   "version": "3.9.13"
  },
  "toc": {
   "base_numbering": 1,
   "nav_menu": {},
   "number_sections": true,
   "sideBar": true,
   "skip_h1_title": false,
   "title_cell": "Table of Contents",
   "title_sidebar": "Contents",
   "toc_cell": false,
   "toc_position": {},
   "toc_section_display": true,
   "toc_window_display": false
  }
 },
 "nbformat": 4,
 "nbformat_minor": 5
}
