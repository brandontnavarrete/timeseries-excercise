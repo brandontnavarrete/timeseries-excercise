{
 "cells": [
  {
   "cell_type": "code",
   "execution_count": null,
   "id": "596b107f",
   "metadata": {},
   "outputs": [],
   "source": [
    "import pandas as pd\n",
    "import numpy as np\n",
    "from vega_datasets import data\n",
    "import matplotlib.pyplot as plt \n",
    "import seaborn as sns"
   ]
  },
  {
   "cell_type": "code",
   "execution_count": null,
   "id": "71266456",
   "metadata": {},
   "outputs": [],
   "source": [
    "# import data\n",
    "temp_df = data.sf_temps()\n",
    "temp_df"
   ]
  },
  {
   "cell_type": "code",
   "execution_count": null,
   "id": "2f8a3461",
   "metadata": {},
   "outputs": [],
   "source": [
    "# index first\n",
    "temp_df = temp_df.set_index('date')"
   ]
  },
  {
   "cell_type": "code",
   "execution_count": null,
   "id": "fab92174",
   "metadata": {},
   "outputs": [],
   "source": [
    "temp_df = temp_df.sort_index()"
   ]
  },
  {
   "cell_type": "code",
   "execution_count": null,
   "id": "b7e61e4b",
   "metadata": {},
   "outputs": [],
   "source": [
    "temp_df.index.min()"
   ]
  },
  {
   "cell_type": "code",
   "execution_count": null,
   "id": "fca7e1b0",
   "metadata": {},
   "outputs": [],
   "source": [
    "# this is a visual anamoly that i enjoyed\n",
    "temp3d = temp.resample('3d').plot()"
   ]
  },
  {
   "cell_type": "markdown",
   "id": "85f8004a",
   "metadata": {},
   "source": [
    "# Resample by the day and take the average temperature. Visualize the average temperature over time."
   ]
  },
  {
   "cell_type": "code",
   "execution_count": null,
   "id": "a62857b9",
   "metadata": {},
   "outputs": [],
   "source": [
    "temp3d = temp_df.resample('3d').mean()"
   ]
  },
  {
   "cell_type": "code",
   "execution_count": null,
   "id": "1e260885",
   "metadata": {},
   "outputs": [],
   "source": [
    "temp3d.plot()\n",
    "plt.title('Resampling 3 Day Average Temp')\n",
    "plt.ylabel('Temp Average in Celsius')\n",
    "plt.ylabel('Date Over 2010 ')"
   ]
  },
  {
   "cell_type": "markdown",
   "id": "ea8d0eea",
   "metadata": {},
   "source": [
    "# Write the code necessary to visualize the minimum temperature over time."
   ]
  },
  {
   "cell_type": "code",
   "execution_count": null,
   "id": "6bd4f8ad",
   "metadata": {},
   "outputs": [],
   "source": [
    "# when this resamples, it takes the day then the aggregation is the min over the \n",
    "temp.resample('D').temp.min().plot()\n",
    "plt.title('Resampling The Days Min Temp')\n",
    "plt.ylabel('Temp Count in Celsius')\n",
    "plt.ylabel('Date Over 2010 ')"
   ]
  },
  {
   "cell_type": "markdown",
   "id": "5a1ea3a5",
   "metadata": {},
   "source": [
    "# Write the code necessary to visualize the maximum temperature over time."
   ]
  },
  {
   "cell_type": "code",
   "execution_count": null,
   "id": "ee21f856",
   "metadata": {},
   "outputs": [],
   "source": [
    "# when this resamples, it takes the day then the aggregation is the min over the \n",
    "temp.resample('D').temp.max().plot()\n",
    "plt.title('Resampling The Days Max Temp')\n",
    "plt.ylabel('Temp Count in Celsius')\n",
    "plt.ylabel('Date Over 2010 ')"
   ]
  },
  {
   "cell_type": "markdown",
   "id": "bd8ce08d",
   "metadata": {},
   "source": [
    "# Which month is the coldest, on average?"
   ]
  },
  {
   "cell_type": "code",
   "execution_count": null,
   "id": "82ad3652",
   "metadata": {},
   "outputs": [],
   "source": [
    "# a series which relfects the index as months and the value, the average temp of the month. January is the coldest\n",
    "temp.groupby(by=temp.index.month).temp.mean()"
   ]
  },
  {
   "cell_type": "code",
   "execution_count": null,
   "id": "9a0800fc",
   "metadata": {},
   "outputs": [],
   "source": [
    "# same graph as below\n",
    "temp.groupby(by=temp.index.month).temp.mean().plot()"
   ]
  },
  {
   "cell_type": "code",
   "execution_count": null,
   "id": "c491a3e9",
   "metadata": {},
   "outputs": [],
   "source": [
    "# when this resamples, it takes the day then the aggregation is the min over the \n",
    "temp.resample('M').temp.mean().plot()\n",
    "plt.title('January is The Coldest Month of The Year')\n",
    "plt.ylabel('Temp Count in Celsius')\n",
    "plt.ylabel('Date Over 2010 ')\n"
   ]
  },
  {
   "cell_type": "markdown",
   "id": "98441636",
   "metadata": {},
   "source": [
    "# Which month has the highest average temperature?"
   ]
  },
  {
   "cell_type": "code",
   "execution_count": null,
   "id": "33157985",
   "metadata": {},
   "outputs": [],
   "source": [
    "# a series which relfects the index as months and the value, the average temp of the month. Aug and Sept are the hottest\n",
    "temp.groupby(by=temp.index.month).temp.max()"
   ]
  },
  {
   "cell_type": "code",
   "execution_count": null,
   "id": "15f4d3fe",
   "metadata": {},
   "outputs": [],
   "source": [
    "# when this resamples, it takes the day then the aggregation is the min over the \n",
    "temp.groupby(by=temp.index.month).temp.max().plot()\n",
    "plt.title('The Hottest Months of The Year')\n",
    "plt.ylabel('Temp Count in Celsius')\n",
    "plt.ylabel('Date Over 2010 ')"
   ]
  },
  {
   "cell_type": "markdown",
   "id": "5a2a8372",
   "metadata": {},
   "source": [
    "# Resample by the day and calculate the min and max temp for the day (Hint: .agg(['min', 'max'])). Use this resampled dataframe to calculate the change in temperature for the day. Which month has the highest daily temperature variability?"
   ]
  },
  {
   "cell_type": "code",
   "execution_count": null,
   "id": "3c1fcc4c",
   "metadata": {},
   "outputs": [],
   "source": [
    "# resample by day, agg by list of min and max\n",
    "min_max_temp = temp.resample('D').temp.agg(['min','max'])"
   ]
  },
  {
   "cell_type": "code",
   "execution_count": null,
   "id": "75f4768c",
   "metadata": {},
   "outputs": [],
   "source": [
    "min_max_temp['average']= temp.resample('D').temp.mean()"
   ]
  },
  {
   "cell_type": "code",
   "execution_count": null,
   "id": "7bb6727b",
   "metadata": {},
   "outputs": [],
   "source": [
    "min_max_temp['variability'] = min_max_temp['max'] - min_max_temp['min']\n",
    "min_max_temp.variability.idxmax()"
   ]
  },
  {
   "cell_type": "code",
   "execution_count": null,
   "id": "eab5a521",
   "metadata": {},
   "outputs": [],
   "source": [
    "#Bonus: Visualize the daily min, average, and max temperature over time on a single line plot, i.e. the min, average, and maximum temperature should be 3 seperate lines."
   ]
  },
  {
   "cell_type": "code",
   "execution_count": null,
   "id": "aeef2873",
   "metadata": {},
   "outputs": [],
   "source": [
    "min_max_temp[['min','max','average']].plot()"
   ]
  },
  {
   "cell_type": "markdown",
   "id": "78dcf483",
   "metadata": {},
   "source": [
    "# data.seattle_weather()"
   ]
  },
  {
   "cell_type": "markdown",
   "id": "54a09416",
   "metadata": {},
   "source": [
    "# Use the above dataset for the following exercises:\n"
   ]
  },
  {
   "cell_type": "code",
   "execution_count": null,
   "id": "3f182699",
   "metadata": {},
   "outputs": [],
   "source": [
    "sw = data.seattle_weather()"
   ]
  },
  {
   "cell_type": "code",
   "execution_count": null,
   "id": "2cae18f8",
   "metadata": {},
   "outputs": [],
   "source": [
    "sw"
   ]
  },
  {
   "cell_type": "code",
   "execution_count": null,
   "id": "8429f5f2",
   "metadata": {},
   "outputs": [],
   "source": [
    "# set index to date\n",
    "sw = sw.set_index('date').sort_index()"
   ]
  },
  {
   "cell_type": "markdown",
   "id": "0cd3753d",
   "metadata": {},
   "source": [
    "# Which year and month combination has the highest amount of precipitation?"
   ]
  },
  {
   "cell_type": "code",
   "execution_count": null,
   "id": "fb742c7d",
   "metadata": {},
   "outputs": [],
   "source": [
    "sw.resample('M').precipitation.sum().idxmax()"
   ]
  },
  {
   "cell_type": "code",
   "execution_count": null,
   "id": "1d1af42a",
   "metadata": {},
   "outputs": [],
   "source": [
    "# the month of december, 2015"
   ]
  },
  {
   "cell_type": "markdown",
   "id": "f3631e10",
   "metadata": {},
   "source": [
    "# Visualize the amount of monthly precipitation over time."
   ]
  },
  {
   "cell_type": "code",
   "execution_count": null,
   "id": "86393c7f",
   "metadata": {},
   "outputs": [],
   "source": [
    "sw.resample('M').precipitation.sum().plot()"
   ]
  },
  {
   "cell_type": "markdown",
   "id": "d0056c96",
   "metadata": {},
   "source": [
    "# Visualize the amount of wind over time. Choose a time interval you think is appropriate."
   ]
  },
  {
   "cell_type": "code",
   "execution_count": null,
   "id": "db7776d8",
   "metadata": {},
   "outputs": [],
   "source": [
    "sw.resample(\"M\").wind.sum().plot()"
   ]
  },
  {
   "cell_type": "markdown",
   "id": "7b3b27e9",
   "metadata": {},
   "source": [
    "# Which year-month combination is the windiest?"
   ]
  },
  {
   "cell_type": "code",
   "execution_count": null,
   "id": "cab4a931",
   "metadata": {},
   "outputs": [],
   "source": [
    "sw.resample('M').wind.sum().idxmax()"
   ]
  },
  {
   "cell_type": "code",
   "execution_count": null,
   "id": "b5bb6009",
   "metadata": {},
   "outputs": [],
   "source": [
    " #  dec 12,2015"
   ]
  },
  {
   "cell_type": "markdown",
   "id": "7d906642",
   "metadata": {},
   "source": [
    "# What's the sunniest year? (Hint: which day has the highest number of days where weather == sun?)"
   ]
  },
  {
   "cell_type": "code",
   "execution_count": null,
   "id": "4fa44141",
   "metadata": {
    "scrolled": true
   },
   "outputs": [],
   "source": [
    "sw.resample('Y').weather.value_counts()"
   ]
  },
  {
   "cell_type": "code",
   "execution_count": null,
   "id": "fcb141f1",
   "metadata": {},
   "outputs": [],
   "source": [
    "# 2013"
   ]
  },
  {
   "cell_type": "markdown",
   "id": "98035c78",
   "metadata": {},
   "source": [
    "# In which month does it rain the most?"
   ]
  },
  {
   "cell_type": "code",
   "execution_count": null,
   "id": "f10f69c8",
   "metadata": {},
   "outputs": [],
   "source": [
    "rain = pd.DataFrame(sw.resample('m').precipitation.sum())"
   ]
  },
  {
   "cell_type": "code",
   "execution_count": null,
   "id": "208545e9",
   "metadata": {},
   "outputs": [],
   "source": [
    "rain['month'] = rain.index.strftime('%B')"
   ]
  },
  {
   "cell_type": "code",
   "execution_count": null,
   "id": "43368d6e",
   "metadata": {},
   "outputs": [],
   "source": [
    "rain.groupby('month').precipitation.mean().idxmax()"
   ]
  },
  {
   "cell_type": "markdown",
   "id": "b3036eed",
   "metadata": {},
   "source": [
    "# Which month has the most number of days with a non-zero amount of precipitation?"
   ]
  },
  {
   "cell_type": "code",
   "execution_count": null,
   "id": "13363fd3",
   "metadata": {},
   "outputs": [],
   "source": [
    "# deciding if it rain, labeling no rain as zero, and yes rain as 1\n",
    "sw['yes_rain']= np.where(sw['precipitation'] == 0,0,1)"
   ]
  },
  {
   "cell_type": "code",
   "execution_count": null,
   "id": "570ed9df",
   "metadata": {},
   "outputs": [],
   "source": [
    "# resample from month and summed all rain\n",
    "rained = pd.DataFrame(sw.resample('m').yes_rain.sum())"
   ]
  },
  {
   "cell_type": "code",
   "execution_count": null,
   "id": "ef2797bb",
   "metadata": {},
   "outputs": [],
   "source": [
    "# pulling month from date index\n",
    "rained['month'] = rained.index.strftime('%B')"
   ]
  },
  {
   "cell_type": "code",
   "execution_count": null,
   "id": "68f89feb",
   "metadata": {},
   "outputs": [],
   "source": [
    "rained.groupby('month').yes_rain.sum().idxmax(),rained.groupby('month').yes_rain.sum().max()"
   ]
  },
  {
   "cell_type": "markdown",
   "id": "278d17ea",
   "metadata": {},
   "source": [
    "# data.flights_20k()"
   ]
  },
  {
   "cell_type": "markdown",
   "id": "91de3cd5",
   "metadata": {},
   "source": [
    "# Use the above dataset for the following exercises:\n",
    "\n"
   ]
  },
  {
   "cell_type": "code",
   "execution_count": null,
   "id": "62fc5657",
   "metadata": {},
   "outputs": [],
   "source": [
    "fl = data.flights_20k()"
   ]
  },
  {
   "cell_type": "markdown",
   "id": "ff62f4bd",
   "metadata": {},
   "source": [
    "# Convert any negative delays to 0."
   ]
  },
  {
   "cell_type": "code",
   "execution_count": null,
   "id": "5b6ced44",
   "metadata": {},
   "outputs": [],
   "source": [
    "fl.head()"
   ]
  },
  {
   "cell_type": "code",
   "execution_count": null,
   "id": "6ab8da24",
   "metadata": {},
   "outputs": [],
   "source": [
    "# i keep recieving this error and it's not working anymore\n",
    "'''# loop throught the length of the column\n",
    "for i in range(0,len(fl.delay)):\n",
    "    \n",
    "    # loc [i] is less than 0 or neg, proceed\n",
    "    if fl.loc[i].delay < 0:\n",
    "        \n",
    "        # apply zero to that value\n",
    "        fl.iloc[i].delay = 0\n",
    "'''"
   ]
  },
  {
   "cell_type": "code",
   "execution_count": null,
   "id": "e039eb0b",
   "metadata": {},
   "outputs": [],
   "source": [
    "# where fl.delay column is less than or equal to zero, convert to zero and reassign the column\n",
    "fl['delay'] = fl['delay'].where(fl['delay'] >= 0, 0)"
   ]
  },
  {
   "cell_type": "code",
   "execution_count": null,
   "id": "bb1b3981",
   "metadata": {},
   "outputs": [],
   "source": [
    "fl.head(5)"
   ]
  },
  {
   "cell_type": "markdown",
   "id": "30e3e06f",
   "metadata": {},
   "source": [
    "# Which hour of the day has the highest average delay?"
   ]
  },
  {
   "cell_type": "code",
   "execution_count": null,
   "id": "1c2d56c3",
   "metadata": {},
   "outputs": [],
   "source": [
    "# set index to date\n",
    "fl = fl.set_index('date').sort_index()"
   ]
  },
  {
   "cell_type": "code",
   "execution_count": null,
   "id": "7c7e97b9",
   "metadata": {},
   "outputs": [],
   "source": [
    "# creating an hour column\n",
    "fl['hour']= fl.index.strftime('%H')"
   ]
  },
  {
   "cell_type": "code",
   "execution_count": null,
   "id": "c5426d19",
   "metadata": {},
   "outputs": [],
   "source": [
    "fl.head()"
   ]
  },
  {
   "cell_type": "code",
   "execution_count": null,
   "id": "be738ff1",
   "metadata": {},
   "outputs": [],
   "source": [
    "fl.groupby('hour').delay.mean().idxmax(),fl.groupby('hour').delay.mean().max()"
   ]
  },
  {
   "cell_type": "markdown",
   "id": "cf332454",
   "metadata": {},
   "source": [
    "# Does the day of the week make a difference in the delay amount?"
   ]
  },
  {
   "cell_type": "code",
   "execution_count": null,
   "id": "9da2cb2d",
   "metadata": {},
   "outputs": [],
   "source": [
    "# creating a day of the week column\n",
    "fl['dow']= fl.index.strftime('%a') "
   ]
  },
  {
   "cell_type": "code",
   "execution_count": null,
   "id": "4ad3a44b",
   "metadata": {},
   "outputs": [],
   "source": [
    "fl.head(1)"
   ]
  },
  {
   "cell_type": "code",
   "execution_count": null,
   "id": "5ad1b230",
   "metadata": {
    "scrolled": true
   },
   "outputs": [],
   "source": [
    "# group by day of the week look at average mean\n",
    "fl.groupby('dow').delay.mean()"
   ]
  },
  {
   "cell_type": "markdown",
   "id": "00196358",
   "metadata": {},
   "source": [
    "# Does the month make a difference in the delay amount?"
   ]
  },
  {
   "cell_type": "code",
   "execution_count": null,
   "id": "4aa99e00",
   "metadata": {},
   "outputs": [],
   "source": [
    "# creating a month column\n",
    "fl['month']= fl.index.strftime('%m') "
   ]
  },
  {
   "cell_type": "code",
   "execution_count": null,
   "id": "20d3a054",
   "metadata": {},
   "outputs": [],
   "source": [
    "# groub by month, checking delay average\n",
    "fl.groupby('month').delay.mean()"
   ]
  },
  {
   "cell_type": "code",
   "execution_count": null,
   "id": "4e650cc4",
   "metadata": {},
   "outputs": [],
   "source": []
  }
 ],
 "metadata": {
  "kernelspec": {
   "display_name": "Python 3 (ipykernel)",
   "language": "python",
   "name": "python3"
  },
  "language_info": {
   "codemirror_mode": {
    "name": "ipython",
    "version": 3
   },
   "file_extension": ".py",
   "mimetype": "text/x-python",
   "name": "python",
   "nbconvert_exporter": "python",
   "pygments_lexer": "ipython3",
   "version": "3.9.13"
  },
  "toc": {
   "base_numbering": 1,
   "nav_menu": {},
   "number_sections": true,
   "sideBar": true,
   "skip_h1_title": false,
   "title_cell": "Table of Contents",
   "title_sidebar": "Contents",
   "toc_cell": false,
   "toc_position": {},
   "toc_section_display": true,
   "toc_window_display": false
  }
 },
 "nbformat": 4,
 "nbformat_minor": 5
}
